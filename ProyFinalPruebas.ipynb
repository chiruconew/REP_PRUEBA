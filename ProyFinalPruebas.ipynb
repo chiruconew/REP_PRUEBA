{
  "nbformat": 4,
  "nbformat_minor": 0,
  "metadata": {
    "colab": {
      "name": "Copia de ProyFinal.ipynb",
      "provenance": [],
      "authorship_tag": "ABX9TyPR1C10wy3S++oZjty4oD5x",
      "include_colab_link": true
    },
    "kernelspec": {
      "name": "python3",
      "display_name": "Python 3"
    },
    "language_info": {
      "name": "python"
    }
  },
  "cells": [
    {
      "cell_type": "markdown",
      "metadata": {
        "id": "view-in-github",
        "colab_type": "text"
      },
      "source": [
        "<a href=\"https://colab.research.google.com/github/chiruconew/REP_PRUEBA/blob/main/ProyFinalPruebas.ipynb\" target=\"_parent\"><img src=\"https://colab.research.google.com/assets/colab-badge.svg\" alt=\"Open In Colab\"/></a>"
      ]
    },
    {
      "cell_type": "code",
      "metadata": {
        "id": "324TNChi2epO"
      },
      "source": [
        "import pandas as pd\n",
        "import numpy as np\n",
        "import matplotlib.pyplot as plt\n",
        "import seaborn as sns\n",
        "import plotly.express as px\n",
        "import plotly.graph_objects as go"
      ],
      "execution_count": 146,
      "outputs": []
    },
    {
      "cell_type": "code",
      "metadata": {
        "id": "yh8SaDUy6yv5"
      },
      "source": [
        "url = 'https://raw.githubusercontent.com/chiruconew/EXTRA/main/data_set_dg.csv'\n",
        "df  = pd.read_csv(url)"
      ],
      "execution_count": 147,
      "outputs": []
    },
    {
      "cell_type": "code",
      "metadata": {
        "colab": {
          "base_uri": "https://localhost:8080/",
          "height": 275
        },
        "id": "OMMmnGzs8Teg",
        "outputId": "992870cb-a7d4-44b9-ed44-8ebb0b3e427d"
      },
      "source": [
        "df.head()"
      ],
      "execution_count": 148,
      "outputs": [
        {
          "output_type": "execute_result",
          "data": {
            "text/html": [
              "<div>\n",
              "<style scoped>\n",
              "    .dataframe tbody tr th:only-of-type {\n",
              "        vertical-align: middle;\n",
              "    }\n",
              "\n",
              "    .dataframe tbody tr th {\n",
              "        vertical-align: top;\n",
              "    }\n",
              "\n",
              "    .dataframe thead th {\n",
              "        text-align: right;\n",
              "    }\n",
              "</style>\n",
              "<table border=\"1\" class=\"dataframe\">\n",
              "  <thead>\n",
              "    <tr style=\"text-align: right;\">\n",
              "      <th></th>\n",
              "      <th>TELEFONO</th>\n",
              "      <th>CUOTA_BASICA</th>\n",
              "      <th>TIPO_PRODUCTO</th>\n",
              "      <th>CAPACIDAD_PLAN_DATOS</th>\n",
              "      <th>NIT</th>\n",
              "      <th>ANEXOS_HOME</th>\n",
              "      <th>ANEXOS_MOBILE</th>\n",
              "      <th>MESES_CLIENTE_ANTIGUEDAD</th>\n",
              "      <th>MESES_CONTRATO</th>\n",
              "      <th>DEPARTAMENTO_GUATEMALA</th>\n",
              "      <th>INICIO_DE_CONTRATO</th>\n",
              "      <th>SUBSIDIO</th>\n",
              "      <th>PAGO_DEVICE_CLIENTE</th>\n",
              "      <th>PROMEDIO_CONSUMO_DATOS_GB</th>\n",
              "      <th>CONSUMO_PORCENT_CUOTA</th>\n",
              "      <th>FACTURAS_PAGADAS_EN_TIEMPO</th>\n",
              "      <th>FACTURAS_PAGADAS_TARDE</th>\n",
              "      <th>CANTIDAD_ABONOS_PARA_PAGAR_AVG</th>\n",
              "      <th>AVG_DIAS_PAGO_A_TIEMPO</th>\n",
              "      <th>AVG_DIAS_PAGO_TARDE</th>\n",
              "      <th>DOWNSELL</th>\n",
              "    </tr>\n",
              "  </thead>\n",
              "  <tbody>\n",
              "    <tr>\n",
              "      <th>0</th>\n",
              "      <td>52017983</td>\n",
              "      <td>198.9904</td>\n",
              "      <td>C</td>\n",
              "      <td>5</td>\n",
              "      <td>153912-4</td>\n",
              "      <td>0.0</td>\n",
              "      <td>1.0</td>\n",
              "      <td>246.0</td>\n",
              "      <td>18.0</td>\n",
              "      <td>GUATEMALA</td>\n",
              "      <td>06-OCT-16 00:00:00</td>\n",
              "      <td>NaN</td>\n",
              "      <td>NaN</td>\n",
              "      <td>1.0</td>\n",
              "      <td>0.18</td>\n",
              "      <td>0.0</td>\n",
              "      <td>10.0</td>\n",
              "      <td>1.0</td>\n",
              "      <td>0.0</td>\n",
              "      <td>-4.0</td>\n",
              "      <td>NO</td>\n",
              "    </tr>\n",
              "    <tr>\n",
              "      <th>1</th>\n",
              "      <td>55287011</td>\n",
              "      <td>499.0048</td>\n",
              "      <td>C</td>\n",
              "      <td>20</td>\n",
              "      <td>4930230-2</td>\n",
              "      <td>3.0</td>\n",
              "      <td>2.0</td>\n",
              "      <td>200.0</td>\n",
              "      <td>24.0</td>\n",
              "      <td>ESCUINTLA</td>\n",
              "      <td>07-JAN-19 00:00:00</td>\n",
              "      <td>3042.17</td>\n",
              "      <td>1607.14</td>\n",
              "      <td>10.0</td>\n",
              "      <td>0.51</td>\n",
              "      <td>8.0</td>\n",
              "      <td>2.0</td>\n",
              "      <td>1.0</td>\n",
              "      <td>2.0</td>\n",
              "      <td>-1.0</td>\n",
              "      <td>NO</td>\n",
              "    </tr>\n",
              "    <tr>\n",
              "      <th>2</th>\n",
              "      <td>53187495</td>\n",
              "      <td>298.9952</td>\n",
              "      <td>C</td>\n",
              "      <td>15</td>\n",
              "      <td>1199130-5</td>\n",
              "      <td>0.0</td>\n",
              "      <td>3.0</td>\n",
              "      <td>98.0</td>\n",
              "      <td>24.0</td>\n",
              "      <td>GUATEMALA</td>\n",
              "      <td>03-JAN-20 00:00:00</td>\n",
              "      <td>1237.57</td>\n",
              "      <td>207.36</td>\n",
              "      <td>5.0</td>\n",
              "      <td>0.33</td>\n",
              "      <td>10.0</td>\n",
              "      <td>0.0</td>\n",
              "      <td>1.0</td>\n",
              "      <td>8.0</td>\n",
              "      <td>0.0</td>\n",
              "      <td>NO</td>\n",
              "    </tr>\n",
              "    <tr>\n",
              "      <th>3</th>\n",
              "      <td>57813259</td>\n",
              "      <td>224.9968</td>\n",
              "      <td>Q</td>\n",
              "      <td>14</td>\n",
              "      <td>87103923</td>\n",
              "      <td>0.0</td>\n",
              "      <td>1.0</td>\n",
              "      <td>39.0</td>\n",
              "      <td>0.0</td>\n",
              "      <td>SOLOLA</td>\n",
              "      <td>21-AUG-20 00:00:00</td>\n",
              "      <td>NaN</td>\n",
              "      <td>NaN</td>\n",
              "      <td>18.0</td>\n",
              "      <td>1.29</td>\n",
              "      <td>4.0</td>\n",
              "      <td>4.0</td>\n",
              "      <td>1.0</td>\n",
              "      <td>17.0</td>\n",
              "      <td>-18.0</td>\n",
              "      <td>NO</td>\n",
              "    </tr>\n",
              "    <tr>\n",
              "      <th>4</th>\n",
              "      <td>40152016</td>\n",
              "      <td>298.9952</td>\n",
              "      <td>C</td>\n",
              "      <td>15</td>\n",
              "      <td>1526520-K</td>\n",
              "      <td>0.0</td>\n",
              "      <td>1.0</td>\n",
              "      <td>16.0</td>\n",
              "      <td>24.0</td>\n",
              "      <td>SAN MARCOS</td>\n",
              "      <td>15-NOV-19 00:00:00</td>\n",
              "      <td>1441.82</td>\n",
              "      <td>0.90</td>\n",
              "      <td>8.0</td>\n",
              "      <td>0.50</td>\n",
              "      <td>6.0</td>\n",
              "      <td>4.0</td>\n",
              "      <td>2.0</td>\n",
              "      <td>18.0</td>\n",
              "      <td>-5.0</td>\n",
              "      <td>NO</td>\n",
              "    </tr>\n",
              "  </tbody>\n",
              "</table>\n",
              "</div>"
            ],
            "text/plain": [
              "   TELEFONO  CUOTA_BASICA  ... AVG_DIAS_PAGO_TARDE  DOWNSELL\n",
              "0  52017983      198.9904  ...                -4.0        NO\n",
              "1  55287011      499.0048  ...                -1.0        NO\n",
              "2  53187495      298.9952  ...                 0.0        NO\n",
              "3  57813259      224.9968  ...               -18.0        NO\n",
              "4  40152016      298.9952  ...                -5.0        NO\n",
              "\n",
              "[5 rows x 21 columns]"
            ]
          },
          "metadata": {
            "tags": []
          },
          "execution_count": 148
        }
      ]
    },
    {
      "cell_type": "code",
      "metadata": {
        "id": "TAD2Jr7LRUig",
        "colab": {
          "base_uri": "https://localhost:8080/"
        },
        "outputId": "eacc1c60-954f-4fa3-ebb9-0e70f4623263"
      },
      "source": [
        "df.info()"
      ],
      "execution_count": 149,
      "outputs": [
        {
          "output_type": "stream",
          "text": [
            "<class 'pandas.core.frame.DataFrame'>\n",
            "RangeIndex: 18032 entries, 0 to 18031\n",
            "Data columns (total 21 columns):\n",
            " #   Column                          Non-Null Count  Dtype  \n",
            "---  ------                          --------------  -----  \n",
            " 0   TELEFONO                        18032 non-null  int64  \n",
            " 1   CUOTA_BASICA                    18032 non-null  float64\n",
            " 2   TIPO_PRODUCTO                   18032 non-null  object \n",
            " 3   CAPACIDAD_PLAN_DATOS            18032 non-null  int64  \n",
            " 4   NIT                             18032 non-null  object \n",
            " 5   ANEXOS_HOME                     13008 non-null  float64\n",
            " 6   ANEXOS_MOBILE                   13008 non-null  float64\n",
            " 7   MESES_CLIENTE_ANTIGUEDAD        17468 non-null  float64\n",
            " 8   MESES_CONTRATO                  17468 non-null  float64\n",
            " 9   DEPARTAMENTO_GUATEMALA          17468 non-null  object \n",
            " 10  INICIO_DE_CONTRATO              17468 non-null  object \n",
            " 11  SUBSIDIO                        13852 non-null  float64\n",
            " 12  PAGO_DEVICE_CLIENTE             13852 non-null  float64\n",
            " 13  PROMEDIO_CONSUMO_DATOS_GB       18018 non-null  float64\n",
            " 14  CONSUMO_PORCENT_CUOTA           18018 non-null  float64\n",
            " 15  FACTURAS_PAGADAS_EN_TIEMPO      18014 non-null  float64\n",
            " 16  FACTURAS_PAGADAS_TARDE          18014 non-null  float64\n",
            " 17  CANTIDAD_ABONOS_PARA_PAGAR_AVG  18014 non-null  float64\n",
            " 18  AVG_DIAS_PAGO_A_TIEMPO          18014 non-null  float64\n",
            " 19  AVG_DIAS_PAGO_TARDE             18014 non-null  float64\n",
            " 20  DOWNSELL                        18032 non-null  object \n",
            "dtypes: float64(14), int64(2), object(5)\n",
            "memory usage: 2.9+ MB\n"
          ],
          "name": "stdout"
        }
      ]
    },
    {
      "cell_type": "code",
      "metadata": {
        "id": "GmVjmh_BhsBr",
        "colab": {
          "base_uri": "https://localhost:8080/",
          "height": 317
        },
        "outputId": "1f5799ba-5035-4bb5-ea43-453afb325d84"
      },
      "source": [
        "df_recortado = df.dropna()\n",
        "df_recortado.describe()"
      ],
      "execution_count": 150,
      "outputs": [
        {
          "output_type": "execute_result",
          "data": {
            "text/html": [
              "<div>\n",
              "<style scoped>\n",
              "    .dataframe tbody tr th:only-of-type {\n",
              "        vertical-align: middle;\n",
              "    }\n",
              "\n",
              "    .dataframe tbody tr th {\n",
              "        vertical-align: top;\n",
              "    }\n",
              "\n",
              "    .dataframe thead th {\n",
              "        text-align: right;\n",
              "    }\n",
              "</style>\n",
              "<table border=\"1\" class=\"dataframe\">\n",
              "  <thead>\n",
              "    <tr style=\"text-align: right;\">\n",
              "      <th></th>\n",
              "      <th>TELEFONO</th>\n",
              "      <th>CUOTA_BASICA</th>\n",
              "      <th>CAPACIDAD_PLAN_DATOS</th>\n",
              "      <th>ANEXOS_HOME</th>\n",
              "      <th>ANEXOS_MOBILE</th>\n",
              "      <th>MESES_CLIENTE_ANTIGUEDAD</th>\n",
              "      <th>MESES_CONTRATO</th>\n",
              "      <th>SUBSIDIO</th>\n",
              "      <th>PAGO_DEVICE_CLIENTE</th>\n",
              "      <th>PROMEDIO_CONSUMO_DATOS_GB</th>\n",
              "      <th>CONSUMO_PORCENT_CUOTA</th>\n",
              "      <th>FACTURAS_PAGADAS_EN_TIEMPO</th>\n",
              "      <th>FACTURAS_PAGADAS_TARDE</th>\n",
              "      <th>CANTIDAD_ABONOS_PARA_PAGAR_AVG</th>\n",
              "      <th>AVG_DIAS_PAGO_A_TIEMPO</th>\n",
              "      <th>AVG_DIAS_PAGO_TARDE</th>\n",
              "    </tr>\n",
              "  </thead>\n",
              "  <tbody>\n",
              "    <tr>\n",
              "      <th>count</th>\n",
              "      <td>1.015700e+04</td>\n",
              "      <td>10157.000000</td>\n",
              "      <td>10157.000000</td>\n",
              "      <td>10157.000000</td>\n",
              "      <td>10157.000000</td>\n",
              "      <td>10157.000000</td>\n",
              "      <td>10157.000000</td>\n",
              "      <td>10157.000000</td>\n",
              "      <td>10157.000000</td>\n",
              "      <td>10157.000000</td>\n",
              "      <td>10157.000000</td>\n",
              "      <td>10157.000000</td>\n",
              "      <td>10157.000000</td>\n",
              "      <td>10157.000000</td>\n",
              "      <td>10157.000000</td>\n",
              "      <td>10157.000000</td>\n",
              "    </tr>\n",
              "    <tr>\n",
              "      <th>mean</th>\n",
              "      <td>4.548819e+07</td>\n",
              "      <td>472.932098</td>\n",
              "      <td>23.733090</td>\n",
              "      <td>0.883332</td>\n",
              "      <td>3.134489</td>\n",
              "      <td>116.457025</td>\n",
              "      <td>22.339470</td>\n",
              "      <td>2574.829244</td>\n",
              "      <td>983.451752</td>\n",
              "      <td>14.381018</td>\n",
              "      <td>0.676460</td>\n",
              "      <td>6.370385</td>\n",
              "      <td>3.453087</td>\n",
              "      <td>1.181451</td>\n",
              "      <td>9.918972</td>\n",
              "      <td>-3.286699</td>\n",
              "    </tr>\n",
              "    <tr>\n",
              "      <th>std</th>\n",
              "      <td>9.781400e+06</td>\n",
              "      <td>213.122423</td>\n",
              "      <td>14.728745</td>\n",
              "      <td>5.787397</td>\n",
              "      <td>49.861048</td>\n",
              "      <td>103.561452</td>\n",
              "      <td>2.751016</td>\n",
              "      <td>1990.478584</td>\n",
              "      <td>1680.415196</td>\n",
              "      <td>10.357149</td>\n",
              "      <td>0.424278</td>\n",
              "      <td>3.900478</td>\n",
              "      <td>3.689090</td>\n",
              "      <td>0.404848</td>\n",
              "      <td>8.314043</td>\n",
              "      <td>6.151343</td>\n",
              "    </tr>\n",
              "    <tr>\n",
              "      <th>min</th>\n",
              "      <td>3.000016e+07</td>\n",
              "      <td>98.996800</td>\n",
              "      <td>1.000000</td>\n",
              "      <td>0.000000</td>\n",
              "      <td>1.000000</td>\n",
              "      <td>2.000000</td>\n",
              "      <td>0.000000</td>\n",
              "      <td>-8879.250000</td>\n",
              "      <td>-8212.500000</td>\n",
              "      <td>0.000000</td>\n",
              "      <td>0.000000</td>\n",
              "      <td>0.000000</td>\n",
              "      <td>0.000000</td>\n",
              "      <td>1.000000</td>\n",
              "      <td>0.000000</td>\n",
              "      <td>-166.000000</td>\n",
              "    </tr>\n",
              "    <tr>\n",
              "      <th>25%</th>\n",
              "      <td>3.712187e+07</td>\n",
              "      <td>298.995200</td>\n",
              "      <td>15.000000</td>\n",
              "      <td>0.000000</td>\n",
              "      <td>1.000000</td>\n",
              "      <td>48.000000</td>\n",
              "      <td>18.000000</td>\n",
              "      <td>1385.730000</td>\n",
              "      <td>0.890000</td>\n",
              "      <td>7.000000</td>\n",
              "      <td>0.360000</td>\n",
              "      <td>3.000000</td>\n",
              "      <td>0.000000</td>\n",
              "      <td>1.000000</td>\n",
              "      <td>3.000000</td>\n",
              "      <td>-4.000000</td>\n",
              "    </tr>\n",
              "    <tr>\n",
              "      <th>50%</th>\n",
              "      <td>4.843955e+07</td>\n",
              "      <td>399.000000</td>\n",
              "      <td>20.000000</td>\n",
              "      <td>0.000000</td>\n",
              "      <td>1.000000</td>\n",
              "      <td>100.000000</td>\n",
              "      <td>24.000000</td>\n",
              "      <td>1890.520000</td>\n",
              "      <td>133.040000</td>\n",
              "      <td>12.000000</td>\n",
              "      <td>0.660000</td>\n",
              "      <td>7.000000</td>\n",
              "      <td>2.000000</td>\n",
              "      <td>1.000000</td>\n",
              "      <td>8.000000</td>\n",
              "      <td>-2.000000</td>\n",
              "    </tr>\n",
              "    <tr>\n",
              "      <th>75%</th>\n",
              "      <td>5.308374e+07</td>\n",
              "      <td>598.998400</td>\n",
              "      <td>30.000000</td>\n",
              "      <td>0.000000</td>\n",
              "      <td>2.000000</td>\n",
              "      <td>161.000000</td>\n",
              "      <td>24.000000</td>\n",
              "      <td>3617.410000</td>\n",
              "      <td>1383.040000</td>\n",
              "      <td>19.000000</td>\n",
              "      <td>0.930000</td>\n",
              "      <td>9.000000</td>\n",
              "      <td>7.000000</td>\n",
              "      <td>1.000000</td>\n",
              "      <td>16.000000</td>\n",
              "      <td>0.000000</td>\n",
              "    </tr>\n",
              "    <tr>\n",
              "      <th>max</th>\n",
              "      <td>5.999998e+07</td>\n",
              "      <td>1498.000000</td>\n",
              "      <td>70.000000</td>\n",
              "      <td>386.000000</td>\n",
              "      <td>3234.000000</td>\n",
              "      <td>1475.000000</td>\n",
              "      <td>24.000000</td>\n",
              "      <td>13266.570000</td>\n",
              "      <td>9496.860000</td>\n",
              "      <td>104.000000</td>\n",
              "      <td>6.960000</td>\n",
              "      <td>54.000000</td>\n",
              "      <td>56.000000</td>\n",
              "      <td>9.000000</td>\n",
              "      <td>169.000000</td>\n",
              "      <td>0.000000</td>\n",
              "    </tr>\n",
              "  </tbody>\n",
              "</table>\n",
              "</div>"
            ],
            "text/plain": [
              "           TELEFONO  CUOTA_BASICA  ...  AVG_DIAS_PAGO_A_TIEMPO  AVG_DIAS_PAGO_TARDE\n",
              "count  1.015700e+04  10157.000000  ...            10157.000000         10157.000000\n",
              "mean   4.548819e+07    472.932098  ...                9.918972            -3.286699\n",
              "std    9.781400e+06    213.122423  ...                8.314043             6.151343\n",
              "min    3.000016e+07     98.996800  ...                0.000000          -166.000000\n",
              "25%    3.712187e+07    298.995200  ...                3.000000            -4.000000\n",
              "50%    4.843955e+07    399.000000  ...                8.000000            -2.000000\n",
              "75%    5.308374e+07    598.998400  ...               16.000000             0.000000\n",
              "max    5.999998e+07   1498.000000  ...              169.000000             0.000000\n",
              "\n",
              "[8 rows x 16 columns]"
            ]
          },
          "metadata": {
            "tags": []
          },
          "execution_count": 150
        }
      ]
    },
    {
      "cell_type": "code",
      "metadata": {
        "id": "4twbjmZbiVu2",
        "colab": {
          "base_uri": "https://localhost:8080/",
          "height": 1000
        },
        "outputId": "ffaf17c0-3b71-4361-fbc6-dc7ead112ec9"
      },
      "source": [
        "df_recortado.plot.kde(subplots=True, figsize=(10,40), sharex=False)"
      ],
      "execution_count": 151,
      "outputs": [
        {
          "output_type": "execute_result",
          "data": {
            "text/plain": [
              "array([<matplotlib.axes._subplots.AxesSubplot object at 0x7fb887a5f550>,\n",
              "       <matplotlib.axes._subplots.AxesSubplot object at 0x7fb88635ed90>,\n",
              "       <matplotlib.axes._subplots.AxesSubplot object at 0x7fb88610b590>,\n",
              "       <matplotlib.axes._subplots.AxesSubplot object at 0x7fb897647c50>,\n",
              "       <matplotlib.axes._subplots.AxesSubplot object at 0x7fb8975a2f10>,\n",
              "       <matplotlib.axes._subplots.AxesSubplot object at 0x7fb89756fad0>,\n",
              "       <matplotlib.axes._subplots.AxesSubplot object at 0x7fb8974df3d0>,\n",
              "       <matplotlib.axes._subplots.AxesSubplot object at 0x7fb8976f3610>,\n",
              "       <matplotlib.axes._subplots.AxesSubplot object at 0x7fb8976f35d0>,\n",
              "       <matplotlib.axes._subplots.AxesSubplot object at 0x7fb8976b4790>,\n",
              "       <matplotlib.axes._subplots.AxesSubplot object at 0x7fb88572a9d0>,\n",
              "       <matplotlib.axes._subplots.AxesSubplot object at 0x7fb885761dd0>,\n",
              "       <matplotlib.axes._subplots.AxesSubplot object at 0x7fb885720550>,\n",
              "       <matplotlib.axes._subplots.AxesSubplot object at 0x7fb8856d5bd0>,\n",
              "       <matplotlib.axes._subplots.AxesSubplot object at 0x7fb885698290>,\n",
              "       <matplotlib.axes._subplots.AxesSubplot object at 0x7fb88564b910>],\n",
              "      dtype=object)"
            ]
          },
          "metadata": {
            "tags": []
          },
          "execution_count": 151
        },
        {
          "output_type": "display_data",
          "data": {
            "image/png": "[encoded data removed]",
            "text/plain": [
              "<Figure size 720x2880 with 16 Axes>"
            ]
          },
          "metadata": {
            "tags": [],
            "needs_background": "light"
          }
        }
      ]
    },
    {
      "cell_type": "code",
      "metadata": {
        "id": "4ZnS07--dVVl"
      },
      "source": [
        "df_recortado = df_recortado[df_recortado['CAPACIDAD_PLAN_DATOS'] > 0]\n",
        "df_recortado = df_recortado[df_recortado['CUOTA_BASICA'] > 0]\n",
        "df_recortado = df_recortado[df_recortado['ANEXOS_HOME'] < 20]\n",
        "df_recortado = df_recortado[df_recortado['ANEXOS_MOBILE'] < 20]\n",
        "df_recortado = df_recortado[df_recortado['MESES_CLIENTE_ANTIGUEDAD'] < 400]\n",
        "df_recortado = df_recortado[df_recortado['MESES_CONTRATO'] > 0]"
      ],
      "execution_count": 152,
      "outputs": []
    },
    {
      "cell_type": "code",
      "metadata": {
        "id": "HryaKgy8Cv49",
        "colab": {
          "base_uri": "https://localhost:8080/",
          "height": 317
        },
        "outputId": "3eecf19e-3331-4553-c4f9-899ed694f166"
      },
      "source": [
        "df_recortado.describe()"
      ],
      "execution_count": 153,
      "outputs": [
        {
          "output_type": "execute_result",
          "data": {
            "text/html": [
              "<div>\n",
              "<style scoped>\n",
              "    .dataframe tbody tr th:only-of-type {\n",
              "        vertical-align: middle;\n",
              "    }\n",
              "\n",
              "    .dataframe tbody tr th {\n",
              "        vertical-align: top;\n",
              "    }\n",
              "\n",
              "    .dataframe thead th {\n",
              "        text-align: right;\n",
              "    }\n",
              "</style>\n",
              "<table border=\"1\" class=\"dataframe\">\n",
              "  <thead>\n",
              "    <tr style=\"text-align: right;\">\n",
              "      <th></th>\n",
              "      <th>TELEFONO</th>\n",
              "      <th>CUOTA_BASICA</th>\n",
              "      <th>CAPACIDAD_PLAN_DATOS</th>\n",
              "      <th>ANEXOS_HOME</th>\n",
              "      <th>ANEXOS_MOBILE</th>\n",
              "      <th>MESES_CLIENTE_ANTIGUEDAD</th>\n",
              "      <th>MESES_CONTRATO</th>\n",
              "      <th>SUBSIDIO</th>\n",
              "      <th>PAGO_DEVICE_CLIENTE</th>\n",
              "      <th>PROMEDIO_CONSUMO_DATOS_GB</th>\n",
              "      <th>CONSUMO_PORCENT_CUOTA</th>\n",
              "      <th>FACTURAS_PAGADAS_EN_TIEMPO</th>\n",
              "      <th>FACTURAS_PAGADAS_TARDE</th>\n",
              "      <th>CANTIDAD_ABONOS_PARA_PAGAR_AVG</th>\n",
              "      <th>AVG_DIAS_PAGO_A_TIEMPO</th>\n",
              "      <th>AVG_DIAS_PAGO_TARDE</th>\n",
              "    </tr>\n",
              "  </thead>\n",
              "  <tbody>\n",
              "    <tr>\n",
              "      <th>count</th>\n",
              "      <td>1.010500e+04</td>\n",
              "      <td>10105.000000</td>\n",
              "      <td>10105.000000</td>\n",
              "      <td>10105.000000</td>\n",
              "      <td>10105.000000</td>\n",
              "      <td>10105.000000</td>\n",
              "      <td>10105.000000</td>\n",
              "      <td>10105.000000</td>\n",
              "      <td>10105.000000</td>\n",
              "      <td>10105.000000</td>\n",
              "      <td>10105.000000</td>\n",
              "      <td>10105.000000</td>\n",
              "      <td>10105.000000</td>\n",
              "      <td>10105.000000</td>\n",
              "      <td>10105.000000</td>\n",
              "      <td>10105.000000</td>\n",
              "    </tr>\n",
              "    <tr>\n",
              "      <th>mean</th>\n",
              "      <td>4.550176e+07</td>\n",
              "      <td>472.875275</td>\n",
              "      <td>23.726076</td>\n",
              "      <td>0.782583</td>\n",
              "      <td>1.812271</td>\n",
              "      <td>113.607125</td>\n",
              "      <td>22.344582</td>\n",
              "      <td>2574.453436</td>\n",
              "      <td>981.058981</td>\n",
              "      <td>14.378624</td>\n",
              "      <td>0.676235</td>\n",
              "      <td>6.368926</td>\n",
              "      <td>3.453340</td>\n",
              "      <td>1.181000</td>\n",
              "      <td>9.911628</td>\n",
              "      <td>-3.289263</td>\n",
              "    </tr>\n",
              "    <tr>\n",
              "      <th>std</th>\n",
              "      <td>9.778781e+06</td>\n",
              "      <td>212.987097</td>\n",
              "      <td>14.718639</td>\n",
              "      <td>1.843204</td>\n",
              "      <td>1.300575</td>\n",
              "      <td>82.079529</td>\n",
              "      <td>2.739772</td>\n",
              "      <td>1991.265486</td>\n",
              "      <td>1678.353535</td>\n",
              "      <td>10.352905</td>\n",
              "      <td>0.423415</td>\n",
              "      <td>3.895262</td>\n",
              "      <td>3.687601</td>\n",
              "      <td>0.403855</td>\n",
              "      <td>8.309126</td>\n",
              "      <td>6.161921</td>\n",
              "    </tr>\n",
              "    <tr>\n",
              "      <th>min</th>\n",
              "      <td>3.000016e+07</td>\n",
              "      <td>98.996800</td>\n",
              "      <td>1.000000</td>\n",
              "      <td>0.000000</td>\n",
              "      <td>1.000000</td>\n",
              "      <td>2.000000</td>\n",
              "      <td>12.000000</td>\n",
              "      <td>-8879.250000</td>\n",
              "      <td>-8212.500000</td>\n",
              "      <td>0.000000</td>\n",
              "      <td>0.000000</td>\n",
              "      <td>0.000000</td>\n",
              "      <td>0.000000</td>\n",
              "      <td>1.000000</td>\n",
              "      <td>0.000000</td>\n",
              "      <td>-166.000000</td>\n",
              "    </tr>\n",
              "    <tr>\n",
              "      <th>25%</th>\n",
              "      <td>3.712868e+07</td>\n",
              "      <td>298.995200</td>\n",
              "      <td>15.000000</td>\n",
              "      <td>0.000000</td>\n",
              "      <td>1.000000</td>\n",
              "      <td>48.000000</td>\n",
              "      <td>18.000000</td>\n",
              "      <td>1385.730000</td>\n",
              "      <td>0.890000</td>\n",
              "      <td>7.000000</td>\n",
              "      <td>0.360000</td>\n",
              "      <td>3.000000</td>\n",
              "      <td>0.000000</td>\n",
              "      <td>1.000000</td>\n",
              "      <td>3.000000</td>\n",
              "      <td>-4.000000</td>\n",
              "    </tr>\n",
              "    <tr>\n",
              "      <th>50%</th>\n",
              "      <td>4.846119e+07</td>\n",
              "      <td>399.000000</td>\n",
              "      <td>20.000000</td>\n",
              "      <td>0.000000</td>\n",
              "      <td>1.000000</td>\n",
              "      <td>100.000000</td>\n",
              "      <td>24.000000</td>\n",
              "      <td>1890.520000</td>\n",
              "      <td>133.040000</td>\n",
              "      <td>12.000000</td>\n",
              "      <td>0.660000</td>\n",
              "      <td>7.000000</td>\n",
              "      <td>2.000000</td>\n",
              "      <td>1.000000</td>\n",
              "      <td>8.000000</td>\n",
              "      <td>-2.000000</td>\n",
              "    </tr>\n",
              "    <tr>\n",
              "      <th>75%</th>\n",
              "      <td>5.308419e+07</td>\n",
              "      <td>598.998400</td>\n",
              "      <td>30.000000</td>\n",
              "      <td>0.000000</td>\n",
              "      <td>2.000000</td>\n",
              "      <td>160.000000</td>\n",
              "      <td>24.000000</td>\n",
              "      <td>3617.410000</td>\n",
              "      <td>1375.670000</td>\n",
              "      <td>19.000000</td>\n",
              "      <td>0.930000</td>\n",
              "      <td>9.000000</td>\n",
              "      <td>7.000000</td>\n",
              "      <td>1.000000</td>\n",
              "      <td>16.000000</td>\n",
              "      <td>0.000000</td>\n",
              "    </tr>\n",
              "    <tr>\n",
              "      <th>max</th>\n",
              "      <td>5.999998e+07</td>\n",
              "      <td>1498.000000</td>\n",
              "      <td>70.000000</td>\n",
              "      <td>17.000000</td>\n",
              "      <td>18.000000</td>\n",
              "      <td>369.000000</td>\n",
              "      <td>24.000000</td>\n",
              "      <td>13266.570000</td>\n",
              "      <td>9496.860000</td>\n",
              "      <td>104.000000</td>\n",
              "      <td>6.960000</td>\n",
              "      <td>54.000000</td>\n",
              "      <td>56.000000</td>\n",
              "      <td>9.000000</td>\n",
              "      <td>169.000000</td>\n",
              "      <td>0.000000</td>\n",
              "    </tr>\n",
              "  </tbody>\n",
              "</table>\n",
              "</div>"
            ],
            "text/plain": [
              "           TELEFONO  CUOTA_BASICA  ...  AVG_DIAS_PAGO_A_TIEMPO  AVG_DIAS_PAGO_TARDE\n",
              "count  1.010500e+04  10105.000000  ...            10105.000000         10105.000000\n",
              "mean   4.550176e+07    472.875275  ...                9.911628            -3.289263\n",
              "std    9.778781e+06    212.987097  ...                8.309126             6.161921\n",
              "min    3.000016e+07     98.996800  ...                0.000000          -166.000000\n",
              "25%    3.712868e+07    298.995200  ...                3.000000            -4.000000\n",
              "50%    4.846119e+07    399.000000  ...                8.000000            -2.000000\n",
              "75%    5.308419e+07    598.998400  ...               16.000000             0.000000\n",
              "max    5.999998e+07   1498.000000  ...              169.000000             0.000000\n",
              "\n",
              "[8 rows x 16 columns]"
            ]
          },
          "metadata": {
            "tags": []
          },
          "execution_count": 153
        }
      ]
    },
    {
      "cell_type": "code",
      "metadata": {
        "id": "WILmRBgWxbPG"
      },
      "source": [
        ""
      ],
      "execution_count": null,
      "outputs": []
    },
    {
      "cell_type": "code",
      "metadata": {
        "id": "6-XM-0TmvEPM"
      },
      "source": [
        "df_recortado['DOWNSELL'].replace({\"NO\": 0, \"SI\": 1}, inplace=True)\n",
        "\n"
      ],
      "execution_count": 233,
      "outputs": []
    },
    {
      "cell_type": "code",
      "metadata": {
        "colab": {
          "base_uri": "https://localhost:8080/"
        },
        "id": "KVJzRRWdw-xR",
        "outputId": "ea9507f4-b3cd-4b1f-a620-07cf3ef5e8db"
      },
      "source": [
        "df_recortado.info()"
      ],
      "execution_count": 236,
      "outputs": [
        {
          "output_type": "stream",
          "text": [
            "<class 'pandas.core.frame.DataFrame'>\n",
            "Int64Index: 10105 entries, 1 to 17466\n",
            "Data columns (total 21 columns):\n",
            " #   Column                          Non-Null Count  Dtype  \n",
            "---  ------                          --------------  -----  \n",
            " 0   TELEFONO                        10105 non-null  int64  \n",
            " 1   CUOTA_BASICA                    10105 non-null  float64\n",
            " 2   TIPO_PRODUCTO                   10105 non-null  object \n",
            " 3   CAPACIDAD_PLAN_DATOS            10105 non-null  int64  \n",
            " 4   NIT                             10105 non-null  object \n",
            " 5   ANEXOS_HOME                     10105 non-null  float64\n",
            " 6   ANEXOS_MOBILE                   10105 non-null  float64\n",
            " 7   MESES_CLIENTE_ANTIGUEDAD        10105 non-null  float64\n",
            " 8   MESES_CONTRATO                  10105 non-null  float64\n",
            " 9   DEPARTAMENTO_GUATEMALA          10105 non-null  object \n",
            " 10  INICIO_DE_CONTRATO              10105 non-null  object \n",
            " 11  SUBSIDIO                        10105 non-null  float64\n",
            " 12  PAGO_DEVICE_CLIENTE             10105 non-null  float64\n",
            " 13  PROMEDIO_CONSUMO_DATOS_GB       10105 non-null  float64\n",
            " 14  CONSUMO_PORCENT_CUOTA           10105 non-null  float64\n",
            " 15  FACTURAS_PAGADAS_EN_TIEMPO      10105 non-null  float64\n",
            " 16  FACTURAS_PAGADAS_TARDE          10105 non-null  float64\n",
            " 17  CANTIDAD_ABONOS_PARA_PAGAR_AVG  10105 non-null  float64\n",
            " 18  AVG_DIAS_PAGO_A_TIEMPO          10105 non-null  float64\n",
            " 19  AVG_DIAS_PAGO_TARDE             10105 non-null  float64\n",
            " 20  DOWNSELL                        10105 non-null  int64  \n",
            "dtypes: float64(14), int64(3), object(4)\n",
            "memory usage: 2.0+ MB\n"
          ],
          "name": "stdout"
        }
      ]
    },
    {
      "cell_type": "code",
      "metadata": {
        "id": "YakhzjHq004l"
      },
      "source": [
        "from sklearn.preprocessing import PowerTransformer\n",
        "from sklearn.preprocessing import StandardScaler"
      ],
      "execution_count": 154,
      "outputs": []
    },
    {
      "cell_type": "code",
      "metadata": {
        "id": "k1bHesEv4cPt"
      },
      "source": [
        "ss = StandardScaler()\n",
        "yj_std = PowerTransformer(method='yeo-johnson', standardize=True)"
      ],
      "execution_count": 155,
      "outputs": []
    },
    {
      "cell_type": "code",
      "metadata": {
        "id": "42PhrRrj2uSN"
      },
      "source": [
        "VC_nums = [\"CUOTA_BASICA\", \"CAPACIDAD_PLAN_DATOS\", \"ANEXOS_HOME\", \"ANEXOS_MOBILE\", \"MESES_CLIENTE_ANTIGUEDAD\", \"MESES_CONTRATO\", \n",
        "            \"SUBSIDIO\", \"PAGO_DEVICE_CLIENTE\", \"PROMEDIO_CONSUMO_DATOS_GB\", \"CONSUMO_PORCENT_CUOTA\", \"FACTURAS_PAGADAS_EN_TIEMPO\", \n",
        "            \"FACTURAS_PAGADAS_TARDE\", \"CANTIDAD_ABONOS_PARA_PAGAR_AVG\", \"AVG_DIAS_PAGO_A_TIEMPO\", \"AVG_DIAS_PAGO_TARDE\"]\n",
        "response_var = \"DOWNSELL\""
      ],
      "execution_count": 156,
      "outputs": []
    },
    {
      "cell_type": "code",
      "metadata": {
        "id": "l5ZVu4BrzYSf",
        "colab": {
          "base_uri": "https://localhost:8080/"
        },
        "outputId": "ffeff127-589c-4de7-f79f-008ab05ca642"
      },
      "source": [
        "transformed_VC_nums = yj_std.fit_transform(df_recortado[VC_nums])\n",
        "transformed_VC_nums_df = pd.DataFrame(transformed_VC_nums, columns=VC_nums)\n"
      ],
      "execution_count": 157,
      "outputs": [
        {
          "output_type": "stream",
          "text": [
            "/usr/local/lib/python3.7/dist-packages/sklearn/preprocessing/_data.py:2982: RuntimeWarning:\n",
            "\n",
            "divide by zero encountered in log\n",
            "\n"
          ],
          "name": "stderr"
        }
      ]
    },
    {
      "cell_type": "code",
      "metadata": {
        "id": "7D6W_6AnvSd1"
      },
      "source": [
        "transformed_VC_nums_df['DOWNSELL'] = df_recortado['DOWNSELL']"
      ],
      "execution_count": 237,
      "outputs": []
    },
    {
      "cell_type": "code",
      "metadata": {
        "colab": {
          "base_uri": "https://localhost:8080/"
        },
        "id": "cWhfLBzYxrUK",
        "outputId": "776d0165-8ba0-4d09-ef0c-f821808430ef"
      },
      "source": [
        "transformed_VC_nums_df[transformed_VC_nums_df.columns[1:]].corr()['DOWNSELL'][:]"
      ],
      "execution_count": 238,
      "outputs": [
        {
          "output_type": "execute_result",
          "data": {
            "text/plain": [
              "CAPACIDAD_PLAN_DATOS              0.004646\n",
              "ANEXOS_HOME                       0.018440\n",
              "ANEXOS_MOBILE                     0.006120\n",
              "MESES_CLIENTE_ANTIGUEDAD         -0.008332\n",
              "MESES_CONTRATO                   -0.001744\n",
              "SUBSIDIO                          0.004616\n",
              "PAGO_DEVICE_CLIENTE              -0.001185\n",
              "PROMEDIO_CONSUMO_DATOS_GB        -0.024751\n",
              "CONSUMO_PORCENT_CUOTA            -0.028617\n",
              "FACTURAS_PAGADAS_EN_TIEMPO       -0.012980\n",
              "FACTURAS_PAGADAS_TARDE            0.003310\n",
              "CANTIDAD_ABONOS_PARA_PAGAR_AVG    0.005440\n",
              "AVG_DIAS_PAGO_A_TIEMPO            0.021406\n",
              "AVG_DIAS_PAGO_TARDE              -0.013976\n",
              "DOWNSELL                          1.000000\n",
              "Name: DOWNSELL, dtype: float64"
            ]
          },
          "metadata": {
            "tags": []
          },
          "execution_count": 238
        }
      ]
    },
    {
      "cell_type": "code",
      "metadata": {
        "id": "B_gJituIxs2w"
      },
      "source": [
        ""
      ],
      "execution_count": null,
      "outputs": []
    },
    {
      "cell_type": "code",
      "metadata": {
        "id": "SSW-mRED4oJL"
      },
      "source": [
        "corr = transformed_VC_nums_df.corr()"
      ],
      "execution_count": 158,
      "outputs": []
    },
    {
      "cell_type": "code",
      "metadata": {
        "id": "7k5xN2gw5CB6"
      },
      "source": [
        "cmap = sns.diverging_palette(15, 250, s=100, l=30, as_cmap=True)"
      ],
      "execution_count": 159,
      "outputs": []
    },
    {
      "cell_type": "code",
      "metadata": {
        "id": "Ku3z_alx5F2c",
        "colab": {
          "base_uri": "https://localhost:8080/",
          "height": 886
        },
        "outputId": "477eb7a5-5984-46d5-9959-cb1146c51350"
      },
      "source": [
        "f, ax = plt.subplots(figsize=(20, 12))\n",
        "sns.heatmap(corr, cmap=cmap, center=0,\n",
        "square=True, linewidths=.5, vmin=-1, vmax=1, cbar_kws={\"shrink\": .5}, annot=True);"
      ],
      "execution_count": 160,
      "outputs": [
        {
          "output_type": "display_data",
          "data": {
            "image/png": "[encoded data removed]",
            "text/plain": [
              "<Figure size 1440x864 with 2 Axes>"
            ]
          },
          "metadata": {
            "tags": [],
            "needs_background": "light"
          }
        }
      ]
    },
    {
      "cell_type": "code",
      "metadata": {
        "id": "FXMEYRtj5kOq"
      },
      "source": [
        "corr_matrix = corr.abs()\n",
        "corr_threshold = 0.7 # <-- arbitrary\n",
        "high_corr_var = np.where(corr_matrix > corr_threshold)"
      ],
      "execution_count": 161,
      "outputs": []
    },
    {
      "cell_type": "code",
      "metadata": {
        "id": "VqpsRmW35rZy",
        "colab": {
          "base_uri": "https://localhost:8080/"
        },
        "outputId": "1b19913e-aa4d-4fcd-e015-67ce6c7c2db7"
      },
      "source": [
        "# Columns with high correlation\n",
        "[(corr_matrix.columns[x],corr_matrix.columns[y]) for x,y in zip(*high_corr_var) if x!=y and x<y]"
      ],
      "execution_count": 162,
      "outputs": [
        {
          "output_type": "execute_result",
          "data": {
            "text/plain": [
              "[('PROMEDIO_CONSUMO_DATOS_GB', 'CONSUMO_PORCENT_CUOTA'),\n",
              " ('FACTURAS_PAGADAS_EN_TIEMPO', 'FACTURAS_PAGADAS_TARDE'),\n",
              " ('FACTURAS_PAGADAS_TARDE', 'AVG_DIAS_PAGO_TARDE')]"
            ]
          },
          "metadata": {
            "tags": []
          },
          "execution_count": 162
        }
      ]
    },
    {
      "cell_type": "code",
      "metadata": {
        "id": "JCVJ9Q5H6HtD"
      },
      "source": [
        "df_train = df_recortado[[\"CUOTA_BASICA\", \"CAPACIDAD_PLAN_DATOS\", \"ANEXOS_HOME\", \"ANEXOS_MOBILE\", \"MESES_CLIENTE_ANTIGUEDAD\", \"MESES_CONTRATO\", \n",
        "            \"SUBSIDIO\", \"PAGO_DEVICE_CLIENTE\", \"CONSUMO_PORCENT_CUOTA\", \"FACTURAS_PAGADAS_EN_TIEMPO\", \n",
        "            \"CANTIDAD_ABONOS_PARA_PAGAR_AVG\", \"AVG_DIAS_PAGO_A_TIEMPO\"]]"
      ],
      "execution_count": 163,
      "outputs": []
    },
    {
      "cell_type": "code",
      "metadata": {
        "colab": {
          "base_uri": "https://localhost:8080/"
        },
        "id": "g1CJg7_QxUxR",
        "outputId": "e52dc492-633a-4008-cf9a-9be400f4d5b3"
      },
      "source": [
        "!pip install category_encoders"
      ],
      "execution_count": 164,
      "outputs": [
        {
          "output_type": "stream",
          "text": [
            "Requirement already satisfied: category_encoders in /usr/local/lib/python3.7/dist-packages (2.2.2)\n",
            "Requirement already satisfied: patsy>=0.5.1 in /usr/local/lib/python3.7/dist-packages (from category_encoders) (0.5.1)\n",
            "Requirement already satisfied: numpy>=1.14.0 in /usr/local/lib/python3.7/dist-packages (from category_encoders) (1.19.5)\n",
            "Requirement already satisfied: scikit-learn>=0.20.0 in /usr/local/lib/python3.7/dist-packages (from category_encoders) (0.22.2.post1)\n",
            "Requirement already satisfied: scipy>=1.0.0 in /usr/local/lib/python3.7/dist-packages (from category_encoders) (1.4.1)\n",
            "Requirement already satisfied: pandas>=0.21.1 in /usr/local/lib/python3.7/dist-packages (from category_encoders) (1.1.5)\n",
            "Requirement already satisfied: statsmodels>=0.9.0 in /usr/local/lib/python3.7/dist-packages (from category_encoders) (0.10.2)\n",
            "Requirement already satisfied: six in /usr/local/lib/python3.7/dist-packages (from patsy>=0.5.1->category_encoders) (1.15.0)\n",
            "Requirement already satisfied: joblib>=0.11 in /usr/local/lib/python3.7/dist-packages (from scikit-learn>=0.20.0->category_encoders) (1.0.1)\n",
            "Requirement already satisfied: pytz>=2017.2 in /usr/local/lib/python3.7/dist-packages (from pandas>=0.21.1->category_encoders) (2018.9)\n",
            "Requirement already satisfied: python-dateutil>=2.7.3 in /usr/local/lib/python3.7/dist-packages (from pandas>=0.21.1->category_encoders) (2.8.1)\n"
          ],
          "name": "stdout"
        }
      ]
    },
    {
      "cell_type": "markdown",
      "metadata": {
        "id": "vDcLNr0usGBk"
      },
      "source": [
        "# MESES CONTRATO"
      ]
    },
    {
      "cell_type": "markdown",
      "metadata": {
        "id": "Lq72HrXiMnSm"
      },
      "source": [
        "**CountEncoder**"
      ]
    },
    {
      "cell_type": "code",
      "metadata": {
        "id": "2gGKJozvsUQT"
      },
      "source": [
        "from category_encoders import CountEncoder"
      ],
      "execution_count": 165,
      "outputs": []
    },
    {
      "cell_type": "code",
      "metadata": {
        "id": "t3Q8sQ_0nN7w",
        "colab": {
          "base_uri": "https://localhost:8080/"
        },
        "outputId": "dff2e419-f69d-46d0-f0bf-99c514e97504"
      },
      "source": [
        "df_recortado['MESES_CONTRATO'].unique()"
      ],
      "execution_count": 166,
      "outputs": [
        {
          "output_type": "execute_result",
          "data": {
            "text/plain": [
              "array([24., 18., 12.])"
            ]
          },
          "metadata": {
            "tags": []
          },
          "execution_count": 166
        }
      ]
    },
    {
      "cell_type": "code",
      "metadata": {
        "id": "rZfwlB4UmWSX",
        "colab": {
          "base_uri": "https://localhost:8080/"
        },
        "outputId": "78bff014-eb63-43aa-cf8d-e12e7c5cd57c"
      },
      "source": [
        "df_train.loc[df_train['MESES_CONTRATO'] == 12, 'MESES_CONT_NAME'] = 'DOCE'\n",
        "df_train.loc[df_train['MESES_CONTRATO'] == 24, 'MESES_CONT_NAME'] = 'VEINTICUATRO'\n",
        "df_train.loc[df_train['MESES_CONTRATO'] == 18, 'MESES_CONT_NAME'] = 'DIECIOCHO'"
      ],
      "execution_count": 167,
      "outputs": [
        {
          "output_type": "stream",
          "text": [
            "/usr/local/lib/python3.7/dist-packages/pandas/core/indexing.py:1596: SettingWithCopyWarning:\n",
            "\n",
            "\n",
            "A value is trying to be set on a copy of a slice from a DataFrame.\n",
            "Try using .loc[row_indexer,col_indexer] = value instead\n",
            "\n",
            "See the caveats in the documentation: https://pandas.pydata.org/pandas-docs/stable/user_guide/indexing.html#returning-a-view-versus-a-copy\n",
            "\n",
            "/usr/local/lib/python3.7/dist-packages/pandas/core/indexing.py:1763: SettingWithCopyWarning:\n",
            "\n",
            "\n",
            "A value is trying to be set on a copy of a slice from a DataFrame.\n",
            "Try using .loc[row_indexer,col_indexer] = value instead\n",
            "\n",
            "See the caveats in the documentation: https://pandas.pydata.org/pandas-docs/stable/user_guide/indexing.html#returning-a-view-versus-a-copy\n",
            "\n",
            "/usr/local/lib/python3.7/dist-packages/pandas/core/indexing.py:1763: SettingWithCopyWarning:\n",
            "\n",
            "\n",
            "A value is trying to be set on a copy of a slice from a DataFrame.\n",
            "Try using .loc[row_indexer,col_indexer] = value instead\n",
            "\n",
            "See the caveats in the documentation: https://pandas.pydata.org/pandas-docs/stable/user_guide/indexing.html#returning-a-view-versus-a-copy\n",
            "\n",
            "/usr/local/lib/python3.7/dist-packages/pandas/core/indexing.py:1763: SettingWithCopyWarning:\n",
            "\n",
            "\n",
            "A value is trying to be set on a copy of a slice from a DataFrame.\n",
            "Try using .loc[row_indexer,col_indexer] = value instead\n",
            "\n",
            "See the caveats in the documentation: https://pandas.pydata.org/pandas-docs/stable/user_guide/indexing.html#returning-a-view-versus-a-copy\n",
            "\n"
          ],
          "name": "stderr"
        }
      ]
    },
    {
      "cell_type": "code",
      "metadata": {
        "colab": {
          "base_uri": "https://localhost:8080/",
          "height": 224
        },
        "id": "ROKJanOW84iz",
        "outputId": "0da512ee-628f-4c33-c200-19c6cbdb530e"
      },
      "source": [
        "df_train.head()"
      ],
      "execution_count": 168,
      "outputs": [
        {
          "output_type": "execute_result",
          "data": {
            "text/html": [
              "<div>\n",
              "<style scoped>\n",
              "    .dataframe tbody tr th:only-of-type {\n",
              "        vertical-align: middle;\n",
              "    }\n",
              "\n",
              "    .dataframe tbody tr th {\n",
              "        vertical-align: top;\n",
              "    }\n",
              "\n",
              "    .dataframe thead th {\n",
              "        text-align: right;\n",
              "    }\n",
              "</style>\n",
              "<table border=\"1\" class=\"dataframe\">\n",
              "  <thead>\n",
              "    <tr style=\"text-align: right;\">\n",
              "      <th></th>\n",
              "      <th>CUOTA_BASICA</th>\n",
              "      <th>CAPACIDAD_PLAN_DATOS</th>\n",
              "      <th>ANEXOS_HOME</th>\n",
              "      <th>ANEXOS_MOBILE</th>\n",
              "      <th>MESES_CLIENTE_ANTIGUEDAD</th>\n",
              "      <th>MESES_CONTRATO</th>\n",
              "      <th>SUBSIDIO</th>\n",
              "      <th>PAGO_DEVICE_CLIENTE</th>\n",
              "      <th>CONSUMO_PORCENT_CUOTA</th>\n",
              "      <th>FACTURAS_PAGADAS_EN_TIEMPO</th>\n",
              "      <th>CANTIDAD_ABONOS_PARA_PAGAR_AVG</th>\n",
              "      <th>AVG_DIAS_PAGO_A_TIEMPO</th>\n",
              "      <th>MESES_CONT_NAME</th>\n",
              "    </tr>\n",
              "  </thead>\n",
              "  <tbody>\n",
              "    <tr>\n",
              "      <th>1</th>\n",
              "      <td>499.0048</td>\n",
              "      <td>20</td>\n",
              "      <td>3.0</td>\n",
              "      <td>2.0</td>\n",
              "      <td>200.0</td>\n",
              "      <td>24.0</td>\n",
              "      <td>3042.17</td>\n",
              "      <td>1607.14</td>\n",
              "      <td>0.51</td>\n",
              "      <td>8.0</td>\n",
              "      <td>1.0</td>\n",
              "      <td>2.0</td>\n",
              "      <td>VEINTICUATRO</td>\n",
              "    </tr>\n",
              "    <tr>\n",
              "      <th>2</th>\n",
              "      <td>298.9952</td>\n",
              "      <td>15</td>\n",
              "      <td>0.0</td>\n",
              "      <td>3.0</td>\n",
              "      <td>98.0</td>\n",
              "      <td>24.0</td>\n",
              "      <td>1237.57</td>\n",
              "      <td>207.36</td>\n",
              "      <td>0.33</td>\n",
              "      <td>10.0</td>\n",
              "      <td>1.0</td>\n",
              "      <td>8.0</td>\n",
              "      <td>VEINTICUATRO</td>\n",
              "    </tr>\n",
              "    <tr>\n",
              "      <th>4</th>\n",
              "      <td>298.9952</td>\n",
              "      <td>15</td>\n",
              "      <td>0.0</td>\n",
              "      <td>1.0</td>\n",
              "      <td>16.0</td>\n",
              "      <td>24.0</td>\n",
              "      <td>1441.82</td>\n",
              "      <td>0.90</td>\n",
              "      <td>0.50</td>\n",
              "      <td>6.0</td>\n",
              "      <td>2.0</td>\n",
              "      <td>18.0</td>\n",
              "      <td>VEINTICUATRO</td>\n",
              "    </tr>\n",
              "    <tr>\n",
              "      <th>5</th>\n",
              "      <td>598.9984</td>\n",
              "      <td>25</td>\n",
              "      <td>0.0</td>\n",
              "      <td>3.0</td>\n",
              "      <td>76.0</td>\n",
              "      <td>18.0</td>\n",
              "      <td>3194.77</td>\n",
              "      <td>1428.57</td>\n",
              "      <td>0.10</td>\n",
              "      <td>10.0</td>\n",
              "      <td>1.0</td>\n",
              "      <td>1.0</td>\n",
              "      <td>DIECIOCHO</td>\n",
              "    </tr>\n",
              "    <tr>\n",
              "      <th>6</th>\n",
              "      <td>298.9952</td>\n",
              "      <td>15</td>\n",
              "      <td>1.0</td>\n",
              "      <td>1.0</td>\n",
              "      <td>68.0</td>\n",
              "      <td>18.0</td>\n",
              "      <td>-299.27</td>\n",
              "      <td>-401.79</td>\n",
              "      <td>0.73</td>\n",
              "      <td>9.0</td>\n",
              "      <td>1.0</td>\n",
              "      <td>22.0</td>\n",
              "      <td>DIECIOCHO</td>\n",
              "    </tr>\n",
              "  </tbody>\n",
              "</table>\n",
              "</div>"
            ],
            "text/plain": [
              "   CUOTA_BASICA  CAPACIDAD_PLAN_DATOS  ...  AVG_DIAS_PAGO_A_TIEMPO  MESES_CONT_NAME\n",
              "1      499.0048                    20  ...                     2.0     VEINTICUATRO\n",
              "2      298.9952                    15  ...                     8.0     VEINTICUATRO\n",
              "4      298.9952                    15  ...                    18.0     VEINTICUATRO\n",
              "5      598.9984                    25  ...                     1.0        DIECIOCHO\n",
              "6      298.9952                    15  ...                    22.0        DIECIOCHO\n",
              "\n",
              "[5 rows x 13 columns]"
            ]
          },
          "metadata": {
            "tags": []
          },
          "execution_count": 168
        }
      ]
    },
    {
      "cell_type": "code",
      "metadata": {
        "id": "fAxx3E9X6gXY"
      },
      "source": [
        "count_enc_meses = CountEncoder(normalize=True)"
      ],
      "execution_count": 169,
      "outputs": []
    },
    {
      "cell_type": "code",
      "metadata": {
        "colab": {
          "base_uri": "https://localhost:8080/"
        },
        "id": "yR-sOUA16r1l",
        "outputId": "5bfa787e-939b-4d68-c1ee-417b91c1b5d1"
      },
      "source": [
        "df_train['MESES_CONT_TRANS'] = count_enc_meses.fit_transform(df_train['MESES_CONT_NAME'])"
      ],
      "execution_count": 170,
      "outputs": [
        {
          "output_type": "stream",
          "text": [
            "/usr/local/lib/python3.7/dist-packages/ipykernel_launcher.py:1: SettingWithCopyWarning:\n",
            "\n",
            "\n",
            "A value is trying to be set on a copy of a slice from a DataFrame.\n",
            "Try using .loc[row_indexer,col_indexer] = value instead\n",
            "\n",
            "See the caveats in the documentation: https://pandas.pydata.org/pandas-docs/stable/user_guide/indexing.html#returning-a-view-versus-a-copy\n",
            "\n"
          ],
          "name": "stderr"
        }
      ]
    },
    {
      "cell_type": "code",
      "metadata": {
        "colab": {
          "base_uri": "https://localhost:8080/"
        },
        "id": "oNljI4qL7c2s",
        "outputId": "f64670bf-5499-42df-83a3-c64bf4b743ac"
      },
      "source": [
        "count_enc_meses.mapping"
      ],
      "execution_count": 171,
      "outputs": [
        {
          "output_type": "execute_result",
          "data": {
            "text/plain": [
              "{'MESES_CONT_NAME': VEINTICUATRO    0.728451\n",
              " DIECIOCHO       0.267194\n",
              " DOCE            0.004354\n",
              " Name: MESES_CONT_NAME, dtype: float64}"
            ]
          },
          "metadata": {
            "tags": []
          },
          "execution_count": 171
        }
      ]
    },
    {
      "cell_type": "code",
      "metadata": {
        "colab": {
          "base_uri": "https://localhost:8080/",
          "height": 422
        },
        "id": "S2jj3J3J4T_M",
        "outputId": "369b97df-775a-48d4-bc5d-12bdc37516ad"
      },
      "source": [
        "fig, axes = plt.subplots(ncols=2, figsize =(16,6))\n",
        "sns.histplot(data = df_train, x = 'MESES_CONTRATO', ax = axes[0], kde=True)\n",
        "axes[0].set_title('Histograma con datos antes de Transformar')\n",
        "sns.countplot(data = df_train, x = 'MESES_CONT_NAME')\n",
        "axes[1].set_title('Histograma con datos transformados')"
      ],
      "execution_count": 172,
      "outputs": [
        {
          "output_type": "execute_result",
          "data": {
            "text/plain": [
              "Text(0.5, 1.0, 'Histograma con datos transformados')"
            ]
          },
          "metadata": {
            "tags": []
          },
          "execution_count": 172
        },
        {
          "output_type": "display_data",
          "data": {
            "image/png": "[encoded data removed]",
            "text/plain": [
              "<Figure size 1152x432 with 2 Axes>"
            ]
          },
          "metadata": {
            "tags": [],
            "needs_background": "light"
          }
        }
      ]
    },
    {
      "cell_type": "markdown",
      "metadata": {
        "id": "8QYPdNFjMwit"
      },
      "source": [
        "**COMENTARIO**"
      ]
    },
    {
      "cell_type": "markdown",
      "metadata": {
        "id": "Hnl03mgWrruv"
      },
      "source": [
        "Este predictor son los MESES CONTRATADOS por el cliente, el tipo era numerico y se categorizo, con el proposito de evitar que el modelo pueda tomar importancia numerica y se le asigno un Frecuency Count Encoder normalizado con la intencion de darle peso a traves del porcentaje de cada uno de los parametros."
      ]
    },
    {
      "cell_type": "markdown",
      "metadata": {
        "id": "AzJmGsK4tW5t"
      },
      "source": [
        "# DEPARTAMENTO_GUATEMALA"
      ]
    },
    {
      "cell_type": "markdown",
      "metadata": {
        "id": "6TSlKMu9tABv"
      },
      "source": [
        "**Frequent Count Enconder** "
      ]
    },
    {
      "cell_type": "code",
      "metadata": {
        "id": "TwNiTR-S8g_U"
      },
      "source": [
        "count_enc_depto = CountEncoder( combine_min_nan_groups=True, min_group_size=35,min_group_name='OTROS')"
      ],
      "execution_count": 173,
      "outputs": []
    },
    {
      "cell_type": "code",
      "metadata": {
        "colab": {
          "base_uri": "https://localhost:8080/"
        },
        "id": "po5z5-3H9heq",
        "outputId": "59ceda0b-011d-4a5a-ea34-8626d8d43bab"
      },
      "source": [
        "df_train['DEPARTAMENTO_GUATEMALA'] =  df_recortado['DEPARTAMENTO_GUATEMALA']"
      ],
      "execution_count": 174,
      "outputs": [
        {
          "output_type": "stream",
          "text": [
            "/usr/local/lib/python3.7/dist-packages/ipykernel_launcher.py:1: SettingWithCopyWarning:\n",
            "\n",
            "\n",
            "A value is trying to be set on a copy of a slice from a DataFrame.\n",
            "Try using .loc[row_indexer,col_indexer] = value instead\n",
            "\n",
            "See the caveats in the documentation: https://pandas.pydata.org/pandas-docs/stable/user_guide/indexing.html#returning-a-view-versus-a-copy\n",
            "\n"
          ],
          "name": "stderr"
        }
      ]
    },
    {
      "cell_type": "code",
      "metadata": {
        "id": "bCpS3_b88laT",
        "colab": {
          "base_uri": "https://localhost:8080/"
        },
        "outputId": "5c0be6c1-9a34-40f1-a2f6-4b480f9906e7"
      },
      "source": [
        "df_train['DEPARTAMENTO_TRANS'] = count_enc_depto.fit_transform(df_train['DEPARTAMENTO_GUATEMALA'])"
      ],
      "execution_count": 175,
      "outputs": [
        {
          "output_type": "stream",
          "text": [
            "/usr/local/lib/python3.7/dist-packages/ipykernel_launcher.py:1: SettingWithCopyWarning:\n",
            "\n",
            "\n",
            "A value is trying to be set on a copy of a slice from a DataFrame.\n",
            "Try using .loc[row_indexer,col_indexer] = value instead\n",
            "\n",
            "See the caveats in the documentation: https://pandas.pydata.org/pandas-docs/stable/user_guide/indexing.html#returning-a-view-versus-a-copy\n",
            "\n"
          ],
          "name": "stderr"
        }
      ]
    },
    {
      "cell_type": "code",
      "metadata": {
        "id": "_RL-GVK7oQmf",
        "colab": {
          "base_uri": "https://localhost:8080/"
        },
        "outputId": "ad8ab8d1-0286-44fb-93c0-0aadf8072f5b"
      },
      "source": [
        "count_enc_depto.mapping"
      ],
      "execution_count": 176,
      "outputs": [
        {
          "output_type": "execute_result",
          "data": {
            "text/plain": [
              "{'DEPARTAMENTO_GUATEMALA': GUATEMALA         6617\n",
              " ESCUINTLA          386\n",
              " SACATEPEQUEZ       355\n",
              " HUEHUETENANGO      348\n",
              " ALTA VERAPAZ       274\n",
              " QUETZALTENANGO     250\n",
              " SAN MARCOS         215\n",
              " JUTIAPA            153\n",
              " QUICHE             150\n",
              " CHIMALTENANGO      147\n",
              " SANTA ROSA         143\n",
              " CHIQUIMULA         142\n",
              " PETEN              129\n",
              " IZABAL             127\n",
              " ZACAPA             103\n",
              " RETALHULEU         100\n",
              " SUCHITEPEQUEZ       89\n",
              " SOLOLA              82\n",
              " JALAPA              78\n",
              " BAJA VERAPAZ        73\n",
              " EL PROGRESO         53\n",
              " TOTONICAPAN         48\n",
              " OTROS               43\n",
              " Name: DEPARTAMENTO_GUATEMALA, dtype: int64}"
            ]
          },
          "metadata": {
            "tags": []
          },
          "execution_count": 176
        }
      ]
    },
    {
      "cell_type": "code",
      "metadata": {
        "colab": {
          "base_uri": "https://localhost:8080/",
          "height": 224
        },
        "id": "rebNIH56-q1g",
        "outputId": "06855e3d-bd8c-48a9-e6cb-e0bf55507fb8"
      },
      "source": [
        "df_train.head()"
      ],
      "execution_count": 177,
      "outputs": [
        {
          "output_type": "execute_result",
          "data": {
            "text/html": [
              "<div>\n",
              "<style scoped>\n",
              "    .dataframe tbody tr th:only-of-type {\n",
              "        vertical-align: middle;\n",
              "    }\n",
              "\n",
              "    .dataframe tbody tr th {\n",
              "        vertical-align: top;\n",
              "    }\n",
              "\n",
              "    .dataframe thead th {\n",
              "        text-align: right;\n",
              "    }\n",
              "</style>\n",
              "<table border=\"1\" class=\"dataframe\">\n",
              "  <thead>\n",
              "    <tr style=\"text-align: right;\">\n",
              "      <th></th>\n",
              "      <th>CUOTA_BASICA</th>\n",
              "      <th>CAPACIDAD_PLAN_DATOS</th>\n",
              "      <th>ANEXOS_HOME</th>\n",
              "      <th>ANEXOS_MOBILE</th>\n",
              "      <th>MESES_CLIENTE_ANTIGUEDAD</th>\n",
              "      <th>MESES_CONTRATO</th>\n",
              "      <th>SUBSIDIO</th>\n",
              "      <th>PAGO_DEVICE_CLIENTE</th>\n",
              "      <th>CONSUMO_PORCENT_CUOTA</th>\n",
              "      <th>FACTURAS_PAGADAS_EN_TIEMPO</th>\n",
              "      <th>CANTIDAD_ABONOS_PARA_PAGAR_AVG</th>\n",
              "      <th>AVG_DIAS_PAGO_A_TIEMPO</th>\n",
              "      <th>MESES_CONT_NAME</th>\n",
              "      <th>MESES_CONT_TRANS</th>\n",
              "      <th>DEPARTAMENTO_GUATEMALA</th>\n",
              "      <th>DEPARTAMENTO_TRANS</th>\n",
              "    </tr>\n",
              "  </thead>\n",
              "  <tbody>\n",
              "    <tr>\n",
              "      <th>1</th>\n",
              "      <td>499.0048</td>\n",
              "      <td>20</td>\n",
              "      <td>3.0</td>\n",
              "      <td>2.0</td>\n",
              "      <td>200.0</td>\n",
              "      <td>24.0</td>\n",
              "      <td>3042.17</td>\n",
              "      <td>1607.14</td>\n",
              "      <td>0.51</td>\n",
              "      <td>8.0</td>\n",
              "      <td>1.0</td>\n",
              "      <td>2.0</td>\n",
              "      <td>VEINTICUATRO</td>\n",
              "      <td>0.728451</td>\n",
              "      <td>ESCUINTLA</td>\n",
              "      <td>386</td>\n",
              "    </tr>\n",
              "    <tr>\n",
              "      <th>2</th>\n",
              "      <td>298.9952</td>\n",
              "      <td>15</td>\n",
              "      <td>0.0</td>\n",
              "      <td>3.0</td>\n",
              "      <td>98.0</td>\n",
              "      <td>24.0</td>\n",
              "      <td>1237.57</td>\n",
              "      <td>207.36</td>\n",
              "      <td>0.33</td>\n",
              "      <td>10.0</td>\n",
              "      <td>1.0</td>\n",
              "      <td>8.0</td>\n",
              "      <td>VEINTICUATRO</td>\n",
              "      <td>0.728451</td>\n",
              "      <td>GUATEMALA</td>\n",
              "      <td>6617</td>\n",
              "    </tr>\n",
              "    <tr>\n",
              "      <th>4</th>\n",
              "      <td>298.9952</td>\n",
              "      <td>15</td>\n",
              "      <td>0.0</td>\n",
              "      <td>1.0</td>\n",
              "      <td>16.0</td>\n",
              "      <td>24.0</td>\n",
              "      <td>1441.82</td>\n",
              "      <td>0.90</td>\n",
              "      <td>0.50</td>\n",
              "      <td>6.0</td>\n",
              "      <td>2.0</td>\n",
              "      <td>18.0</td>\n",
              "      <td>VEINTICUATRO</td>\n",
              "      <td>0.728451</td>\n",
              "      <td>SAN MARCOS</td>\n",
              "      <td>215</td>\n",
              "    </tr>\n",
              "    <tr>\n",
              "      <th>5</th>\n",
              "      <td>598.9984</td>\n",
              "      <td>25</td>\n",
              "      <td>0.0</td>\n",
              "      <td>3.0</td>\n",
              "      <td>76.0</td>\n",
              "      <td>18.0</td>\n",
              "      <td>3194.77</td>\n",
              "      <td>1428.57</td>\n",
              "      <td>0.10</td>\n",
              "      <td>10.0</td>\n",
              "      <td>1.0</td>\n",
              "      <td>1.0</td>\n",
              "      <td>DIECIOCHO</td>\n",
              "      <td>0.267194</td>\n",
              "      <td>GUATEMALA</td>\n",
              "      <td>6617</td>\n",
              "    </tr>\n",
              "    <tr>\n",
              "      <th>6</th>\n",
              "      <td>298.9952</td>\n",
              "      <td>15</td>\n",
              "      <td>1.0</td>\n",
              "      <td>1.0</td>\n",
              "      <td>68.0</td>\n",
              "      <td>18.0</td>\n",
              "      <td>-299.27</td>\n",
              "      <td>-401.79</td>\n",
              "      <td>0.73</td>\n",
              "      <td>9.0</td>\n",
              "      <td>1.0</td>\n",
              "      <td>22.0</td>\n",
              "      <td>DIECIOCHO</td>\n",
              "      <td>0.267194</td>\n",
              "      <td>GUATEMALA</td>\n",
              "      <td>6617</td>\n",
              "    </tr>\n",
              "  </tbody>\n",
              "</table>\n",
              "</div>"
            ],
            "text/plain": [
              "   CUOTA_BASICA  ...  DEPARTAMENTO_TRANS\n",
              "1      499.0048  ...                 386\n",
              "2      298.9952  ...                6617\n",
              "4      298.9952  ...                 215\n",
              "5      598.9984  ...                6617\n",
              "6      298.9952  ...                6617\n",
              "\n",
              "[5 rows x 16 columns]"
            ]
          },
          "metadata": {
            "tags": []
          },
          "execution_count": 177
        }
      ]
    },
    {
      "cell_type": "markdown",
      "metadata": {
        "id": "rASpOlNzOG1s"
      },
      "source": [
        "**COMENTARIO**"
      ]
    },
    {
      "cell_type": "markdown",
      "metadata": {
        "id": "Fy0PG2IiOJWN"
      },
      "source": [
        "Esta variable significa el departamento de ubicacion geografica del cliente.  Se utilizo el Count Encoder para poder darle importancia numerica al departamento donde mas se ubica el cliente."
      ]
    },
    {
      "cell_type": "markdown",
      "metadata": {
        "id": "qvqHIisowz19"
      },
      "source": [
        "# SUBSIDIO"
      ]
    },
    {
      "cell_type": "markdown",
      "metadata": {
        "id": "ysRjTQcAMWZB"
      },
      "source": [
        "**QuantileTransformer**"
      ]
    },
    {
      "cell_type": "code",
      "metadata": {
        "id": "ktX6trUIxdKh"
      },
      "source": [
        "from sklearn.preprocessing import QuantileTransformer"
      ],
      "execution_count": 178,
      "outputs": []
    },
    {
      "cell_type": "code",
      "metadata": {
        "id": "OCPkC6e0xkAV"
      },
      "source": [
        "subsidio_scaler = QuantileTransformer( output_distribution='normal')"
      ],
      "execution_count": 179,
      "outputs": []
    },
    {
      "cell_type": "code",
      "metadata": {
        "id": "Aa4e63utxo5N",
        "colab": {
          "base_uri": "https://localhost:8080/"
        },
        "outputId": "bd2aef5f-edd1-4133-abff-bb13175aa09a"
      },
      "source": [
        "col_name = 'SUBSIDIO'\n",
        "trans_col_name = 'SUBSIDIO_MM'\n",
        "df_train[trans_col_name] = subsidio_scaler.fit_transform(df_train[[col_name]])"
      ],
      "execution_count": 180,
      "outputs": [
        {
          "output_type": "stream",
          "text": [
            "/usr/local/lib/python3.7/dist-packages/ipykernel_launcher.py:3: SettingWithCopyWarning:\n",
            "\n",
            "\n",
            "A value is trying to be set on a copy of a slice from a DataFrame.\n",
            "Try using .loc[row_indexer,col_indexer] = value instead\n",
            "\n",
            "See the caveats in the documentation: https://pandas.pydata.org/pandas-docs/stable/user_guide/indexing.html#returning-a-view-versus-a-copy\n",
            "\n"
          ],
          "name": "stderr"
        }
      ]
    },
    {
      "cell_type": "code",
      "metadata": {
        "colab": {
          "base_uri": "https://localhost:8080/",
          "height": 406
        },
        "id": "RRzA8ktoyRiC",
        "outputId": "42557a53-fe8a-4e82-b02c-ac1a1a8e83de"
      },
      "source": [
        "fig, axes = plt.subplots(ncols=2, figsize=(16,6))\n",
        "sns.histplot(data=df_train,x=trans_col_name,ax=axes[0], kde=True)\n",
        "sns.histplot(data=df_train, x=col_name, ax=axes[1], kde=True)"
      ],
      "execution_count": 181,
      "outputs": [
        {
          "output_type": "execute_result",
          "data": {
            "text/plain": [
              "<matplotlib.axes._subplots.AxesSubplot at 0x7fb884f4ba90>"
            ]
          },
          "metadata": {
            "tags": []
          },
          "execution_count": 181
        },
        {
          "output_type": "display_data",
          "data": {
            "image/png": "[encoded data removed]",
            "text/plain": [
              "<Figure size 1152x432 with 2 Axes>"
            ]
          },
          "metadata": {
            "tags": [],
            "needs_background": "light"
          }
        }
      ]
    },
    {
      "cell_type": "markdown",
      "metadata": {
        "id": "XfVXh5zEOkm_"
      },
      "source": [
        "**COMENTARIO**"
      ]
    },
    {
      "cell_type": "markdown",
      "metadata": {
        "id": "lJpXw-lMOvT0"
      },
      "source": [
        "Esta predictor tiene el valor de subsidio que recibe cada cliente, para el pago de su dispositivo telefonico. Contiene valores negativos, debido a que algunos clientes pagan por anticipado, y se intento centrar los datos, para que tengan una distribucion normal."
      ]
    },
    {
      "cell_type": "markdown",
      "metadata": {
        "id": "DcBSV5s_AVk1"
      },
      "source": [
        "# CAPACIDAD DEL PLAN DE DATOS"
      ]
    },
    {
      "cell_type": "markdown",
      "metadata": {
        "id": "ZwzmUMz5DPUc"
      },
      "source": [
        "**One Hot Encoder**"
      ]
    },
    {
      "cell_type": "code",
      "metadata": {
        "id": "0rnmMY5FAUQ3"
      },
      "source": [
        "from category_encoders import OneHotEncoder"
      ],
      "execution_count": 182,
      "outputs": []
    },
    {
      "cell_type": "code",
      "metadata": {
        "id": "-G-tOGfJB5ne",
        "colab": {
          "base_uri": "https://localhost:8080/"
        },
        "outputId": "8167c37d-3453-429c-8927-943052f33de9"
      },
      "source": [
        "df_train['CAP_PLAN_ENC'] = df_train['CAPACIDAD_PLAN_DATOS'].astype(str)"
      ],
      "execution_count": 183,
      "outputs": [
        {
          "output_type": "stream",
          "text": [
            "/usr/local/lib/python3.7/dist-packages/ipykernel_launcher.py:1: SettingWithCopyWarning:\n",
            "\n",
            "\n",
            "A value is trying to be set on a copy of a slice from a DataFrame.\n",
            "Try using .loc[row_indexer,col_indexer] = value instead\n",
            "\n",
            "See the caveats in the documentation: https://pandas.pydata.org/pandas-docs/stable/user_guide/indexing.html#returning-a-view-versus-a-copy\n",
            "\n"
          ],
          "name": "stderr"
        }
      ]
    },
    {
      "cell_type": "code",
      "metadata": {
        "id": "Dmwj-KcRASSU"
      },
      "source": [
        "onehot_enc = OneHotEncoder( use_cat_names=True)"
      ],
      "execution_count": 184,
      "outputs": []
    },
    {
      "cell_type": "code",
      "metadata": {
        "colab": {
          "base_uri": "https://localhost:8080/"
        },
        "id": "__fKPDmnAjcb",
        "outputId": "679bb07c-4c62-4155-c886-939a5e3f9ffb"
      },
      "source": [
        "df_train_caplan = onehot_enc.fit_transform(df_train['CAP_PLAN_ENC'])"
      ],
      "execution_count": 185,
      "outputs": [
        {
          "output_type": "stream",
          "text": [
            "/usr/local/lib/python3.7/dist-packages/category_encoders/utils.py:21: FutureWarning:\n",
            "\n",
            "is_categorical is deprecated and will be removed in a future version.  Use is_categorical_dtype instead\n",
            "\n"
          ],
          "name": "stderr"
        }
      ]
    },
    {
      "cell_type": "code",
      "metadata": {
        "id": "cmnZLIoUBzhR"
      },
      "source": [
        " df_train = pd.concat([df_train, df_train_caplan], axis=1)"
      ],
      "execution_count": 186,
      "outputs": []
    },
    {
      "cell_type": "code",
      "metadata": {
        "colab": {
          "base_uri": "https://localhost:8080/",
          "height": 689
        },
        "id": "tqFUGimcC3dc",
        "outputId": "aa6f46a8-de50-40b8-ca40-16d512fa37fd"
      },
      "source": [
        "onehot_enc.mapping[0]['mapping']"
      ],
      "execution_count": 187,
      "outputs": [
        {
          "output_type": "execute_result",
          "data": {
            "text/html": [
              "<div>\n",
              "<style scoped>\n",
              "    .dataframe tbody tr th:only-of-type {\n",
              "        vertical-align: middle;\n",
              "    }\n",
              "\n",
              "    .dataframe tbody tr th {\n",
              "        vertical-align: top;\n",
              "    }\n",
              "\n",
              "    .dataframe thead th {\n",
              "        text-align: right;\n",
              "    }\n",
              "</style>\n",
              "<table border=\"1\" class=\"dataframe\">\n",
              "  <thead>\n",
              "    <tr style=\"text-align: right;\">\n",
              "      <th></th>\n",
              "      <th>CAP_PLAN_ENC_20</th>\n",
              "      <th>CAP_PLAN_ENC_15</th>\n",
              "      <th>CAP_PLAN_ENC_25</th>\n",
              "      <th>CAP_PLAN_ENC_10</th>\n",
              "      <th>CAP_PLAN_ENC_70</th>\n",
              "      <th>CAP_PLAN_ENC_16</th>\n",
              "      <th>CAP_PLAN_ENC_30</th>\n",
              "      <th>CAP_PLAN_ENC_60</th>\n",
              "      <th>CAP_PLAN_ENC_40</th>\n",
              "      <th>CAP_PLAN_ENC_50</th>\n",
              "      <th>CAP_PLAN_ENC_14</th>\n",
              "      <th>CAP_PLAN_ENC_6</th>\n",
              "      <th>CAP_PLAN_ENC_5</th>\n",
              "      <th>CAP_PLAN_ENC_12</th>\n",
              "      <th>CAP_PLAN_ENC_7</th>\n",
              "      <th>CAP_PLAN_ENC_1</th>\n",
              "      <th>CAP_PLAN_ENC_9</th>\n",
              "      <th>CAP_PLAN_ENC_8</th>\n",
              "    </tr>\n",
              "  </thead>\n",
              "  <tbody>\n",
              "    <tr>\n",
              "      <th>1</th>\n",
              "      <td>1</td>\n",
              "      <td>0</td>\n",
              "      <td>0</td>\n",
              "      <td>0</td>\n",
              "      <td>0</td>\n",
              "      <td>0</td>\n",
              "      <td>0</td>\n",
              "      <td>0</td>\n",
              "      <td>0</td>\n",
              "      <td>0</td>\n",
              "      <td>0</td>\n",
              "      <td>0</td>\n",
              "      <td>0</td>\n",
              "      <td>0</td>\n",
              "      <td>0</td>\n",
              "      <td>0</td>\n",
              "      <td>0</td>\n",
              "      <td>0</td>\n",
              "    </tr>\n",
              "    <tr>\n",
              "      <th>2</th>\n",
              "      <td>0</td>\n",
              "      <td>1</td>\n",
              "      <td>0</td>\n",
              "      <td>0</td>\n",
              "      <td>0</td>\n",
              "      <td>0</td>\n",
              "      <td>0</td>\n",
              "      <td>0</td>\n",
              "      <td>0</td>\n",
              "      <td>0</td>\n",
              "      <td>0</td>\n",
              "      <td>0</td>\n",
              "      <td>0</td>\n",
              "      <td>0</td>\n",
              "      <td>0</td>\n",
              "      <td>0</td>\n",
              "      <td>0</td>\n",
              "      <td>0</td>\n",
              "    </tr>\n",
              "    <tr>\n",
              "      <th>3</th>\n",
              "      <td>0</td>\n",
              "      <td>0</td>\n",
              "      <td>1</td>\n",
              "      <td>0</td>\n",
              "      <td>0</td>\n",
              "      <td>0</td>\n",
              "      <td>0</td>\n",
              "      <td>0</td>\n",
              "      <td>0</td>\n",
              "      <td>0</td>\n",
              "      <td>0</td>\n",
              "      <td>0</td>\n",
              "      <td>0</td>\n",
              "      <td>0</td>\n",
              "      <td>0</td>\n",
              "      <td>0</td>\n",
              "      <td>0</td>\n",
              "      <td>0</td>\n",
              "    </tr>\n",
              "    <tr>\n",
              "      <th>4</th>\n",
              "      <td>0</td>\n",
              "      <td>0</td>\n",
              "      <td>0</td>\n",
              "      <td>1</td>\n",
              "      <td>0</td>\n",
              "      <td>0</td>\n",
              "      <td>0</td>\n",
              "      <td>0</td>\n",
              "      <td>0</td>\n",
              "      <td>0</td>\n",
              "      <td>0</td>\n",
              "      <td>0</td>\n",
              "      <td>0</td>\n",
              "      <td>0</td>\n",
              "      <td>0</td>\n",
              "      <td>0</td>\n",
              "      <td>0</td>\n",
              "      <td>0</td>\n",
              "    </tr>\n",
              "    <tr>\n",
              "      <th>5</th>\n",
              "      <td>0</td>\n",
              "      <td>0</td>\n",
              "      <td>0</td>\n",
              "      <td>0</td>\n",
              "      <td>1</td>\n",
              "      <td>0</td>\n",
              "      <td>0</td>\n",
              "      <td>0</td>\n",
              "      <td>0</td>\n",
              "      <td>0</td>\n",
              "      <td>0</td>\n",
              "      <td>0</td>\n",
              "      <td>0</td>\n",
              "      <td>0</td>\n",
              "      <td>0</td>\n",
              "      <td>0</td>\n",
              "      <td>0</td>\n",
              "      <td>0</td>\n",
              "    </tr>\n",
              "    <tr>\n",
              "      <th>6</th>\n",
              "      <td>0</td>\n",
              "      <td>0</td>\n",
              "      <td>0</td>\n",
              "      <td>0</td>\n",
              "      <td>0</td>\n",
              "      <td>1</td>\n",
              "      <td>0</td>\n",
              "      <td>0</td>\n",
              "      <td>0</td>\n",
              "      <td>0</td>\n",
              "      <td>0</td>\n",
              "      <td>0</td>\n",
              "      <td>0</td>\n",
              "      <td>0</td>\n",
              "      <td>0</td>\n",
              "      <td>0</td>\n",
              "      <td>0</td>\n",
              "      <td>0</td>\n",
              "    </tr>\n",
              "    <tr>\n",
              "      <th>7</th>\n",
              "      <td>0</td>\n",
              "      <td>0</td>\n",
              "      <td>0</td>\n",
              "      <td>0</td>\n",
              "      <td>0</td>\n",
              "      <td>0</td>\n",
              "      <td>1</td>\n",
              "      <td>0</td>\n",
              "      <td>0</td>\n",
              "      <td>0</td>\n",
              "      <td>0</td>\n",
              "      <td>0</td>\n",
              "      <td>0</td>\n",
              "      <td>0</td>\n",
              "      <td>0</td>\n",
              "      <td>0</td>\n",
              "      <td>0</td>\n",
              "      <td>0</td>\n",
              "    </tr>\n",
              "    <tr>\n",
              "      <th>8</th>\n",
              "      <td>0</td>\n",
              "      <td>0</td>\n",
              "      <td>0</td>\n",
              "      <td>0</td>\n",
              "      <td>0</td>\n",
              "      <td>0</td>\n",
              "      <td>0</td>\n",
              "      <td>1</td>\n",
              "      <td>0</td>\n",
              "      <td>0</td>\n",
              "      <td>0</td>\n",
              "      <td>0</td>\n",
              "      <td>0</td>\n",
              "      <td>0</td>\n",
              "      <td>0</td>\n",
              "      <td>0</td>\n",
              "      <td>0</td>\n",
              "      <td>0</td>\n",
              "    </tr>\n",
              "    <tr>\n",
              "      <th>9</th>\n",
              "      <td>0</td>\n",
              "      <td>0</td>\n",
              "      <td>0</td>\n",
              "      <td>0</td>\n",
              "      <td>0</td>\n",
              "      <td>0</td>\n",
              "      <td>0</td>\n",
              "      <td>0</td>\n",
              "      <td>1</td>\n",
              "      <td>0</td>\n",
              "      <td>0</td>\n",
              "      <td>0</td>\n",
              "      <td>0</td>\n",
              "      <td>0</td>\n",
              "      <td>0</td>\n",
              "      <td>0</td>\n",
              "      <td>0</td>\n",
              "      <td>0</td>\n",
              "    </tr>\n",
              "    <tr>\n",
              "      <th>10</th>\n",
              "      <td>0</td>\n",
              "      <td>0</td>\n",
              "      <td>0</td>\n",
              "      <td>0</td>\n",
              "      <td>0</td>\n",
              "      <td>0</td>\n",
              "      <td>0</td>\n",
              "      <td>0</td>\n",
              "      <td>0</td>\n",
              "      <td>1</td>\n",
              "      <td>0</td>\n",
              "      <td>0</td>\n",
              "      <td>0</td>\n",
              "      <td>0</td>\n",
              "      <td>0</td>\n",
              "      <td>0</td>\n",
              "      <td>0</td>\n",
              "      <td>0</td>\n",
              "    </tr>\n",
              "    <tr>\n",
              "      <th>11</th>\n",
              "      <td>0</td>\n",
              "      <td>0</td>\n",
              "      <td>0</td>\n",
              "      <td>0</td>\n",
              "      <td>0</td>\n",
              "      <td>0</td>\n",
              "      <td>0</td>\n",
              "      <td>0</td>\n",
              "      <td>0</td>\n",
              "      <td>0</td>\n",
              "      <td>1</td>\n",
              "      <td>0</td>\n",
              "      <td>0</td>\n",
              "      <td>0</td>\n",
              "      <td>0</td>\n",
              "      <td>0</td>\n",
              "      <td>0</td>\n",
              "      <td>0</td>\n",
              "    </tr>\n",
              "    <tr>\n",
              "      <th>12</th>\n",
              "      <td>0</td>\n",
              "      <td>0</td>\n",
              "      <td>0</td>\n",
              "      <td>0</td>\n",
              "      <td>0</td>\n",
              "      <td>0</td>\n",
              "      <td>0</td>\n",
              "      <td>0</td>\n",
              "      <td>0</td>\n",
              "      <td>0</td>\n",
              "      <td>0</td>\n",
              "      <td>1</td>\n",
              "      <td>0</td>\n",
              "      <td>0</td>\n",
              "      <td>0</td>\n",
              "      <td>0</td>\n",
              "      <td>0</td>\n",
              "      <td>0</td>\n",
              "    </tr>\n",
              "    <tr>\n",
              "      <th>13</th>\n",
              "      <td>0</td>\n",
              "      <td>0</td>\n",
              "      <td>0</td>\n",
              "      <td>0</td>\n",
              "      <td>0</td>\n",
              "      <td>0</td>\n",
              "      <td>0</td>\n",
              "      <td>0</td>\n",
              "      <td>0</td>\n",
              "      <td>0</td>\n",
              "      <td>0</td>\n",
              "      <td>0</td>\n",
              "      <td>1</td>\n",
              "      <td>0</td>\n",
              "      <td>0</td>\n",
              "      <td>0</td>\n",
              "      <td>0</td>\n",
              "      <td>0</td>\n",
              "    </tr>\n",
              "    <tr>\n",
              "      <th>14</th>\n",
              "      <td>0</td>\n",
              "      <td>0</td>\n",
              "      <td>0</td>\n",
              "      <td>0</td>\n",
              "      <td>0</td>\n",
              "      <td>0</td>\n",
              "      <td>0</td>\n",
              "      <td>0</td>\n",
              "      <td>0</td>\n",
              "      <td>0</td>\n",
              "      <td>0</td>\n",
              "      <td>0</td>\n",
              "      <td>0</td>\n",
              "      <td>1</td>\n",
              "      <td>0</td>\n",
              "      <td>0</td>\n",
              "      <td>0</td>\n",
              "      <td>0</td>\n",
              "    </tr>\n",
              "    <tr>\n",
              "      <th>15</th>\n",
              "      <td>0</td>\n",
              "      <td>0</td>\n",
              "      <td>0</td>\n",
              "      <td>0</td>\n",
              "      <td>0</td>\n",
              "      <td>0</td>\n",
              "      <td>0</td>\n",
              "      <td>0</td>\n",
              "      <td>0</td>\n",
              "      <td>0</td>\n",
              "      <td>0</td>\n",
              "      <td>0</td>\n",
              "      <td>0</td>\n",
              "      <td>0</td>\n",
              "      <td>1</td>\n",
              "      <td>0</td>\n",
              "      <td>0</td>\n",
              "      <td>0</td>\n",
              "    </tr>\n",
              "    <tr>\n",
              "      <th>16</th>\n",
              "      <td>0</td>\n",
              "      <td>0</td>\n",
              "      <td>0</td>\n",
              "      <td>0</td>\n",
              "      <td>0</td>\n",
              "      <td>0</td>\n",
              "      <td>0</td>\n",
              "      <td>0</td>\n",
              "      <td>0</td>\n",
              "      <td>0</td>\n",
              "      <td>0</td>\n",
              "      <td>0</td>\n",
              "      <td>0</td>\n",
              "      <td>0</td>\n",
              "      <td>0</td>\n",
              "      <td>1</td>\n",
              "      <td>0</td>\n",
              "      <td>0</td>\n",
              "    </tr>\n",
              "    <tr>\n",
              "      <th>17</th>\n",
              "      <td>0</td>\n",
              "      <td>0</td>\n",
              "      <td>0</td>\n",
              "      <td>0</td>\n",
              "      <td>0</td>\n",
              "      <td>0</td>\n",
              "      <td>0</td>\n",
              "      <td>0</td>\n",
              "      <td>0</td>\n",
              "      <td>0</td>\n",
              "      <td>0</td>\n",
              "      <td>0</td>\n",
              "      <td>0</td>\n",
              "      <td>0</td>\n",
              "      <td>0</td>\n",
              "      <td>0</td>\n",
              "      <td>1</td>\n",
              "      <td>0</td>\n",
              "    </tr>\n",
              "    <tr>\n",
              "      <th>18</th>\n",
              "      <td>0</td>\n",
              "      <td>0</td>\n",
              "      <td>0</td>\n",
              "      <td>0</td>\n",
              "      <td>0</td>\n",
              "      <td>0</td>\n",
              "      <td>0</td>\n",
              "      <td>0</td>\n",
              "      <td>0</td>\n",
              "      <td>0</td>\n",
              "      <td>0</td>\n",
              "      <td>0</td>\n",
              "      <td>0</td>\n",
              "      <td>0</td>\n",
              "      <td>0</td>\n",
              "      <td>0</td>\n",
              "      <td>0</td>\n",
              "      <td>1</td>\n",
              "    </tr>\n",
              "    <tr>\n",
              "      <th>-1</th>\n",
              "      <td>0</td>\n",
              "      <td>0</td>\n",
              "      <td>0</td>\n",
              "      <td>0</td>\n",
              "      <td>0</td>\n",
              "      <td>0</td>\n",
              "      <td>0</td>\n",
              "      <td>0</td>\n",
              "      <td>0</td>\n",
              "      <td>0</td>\n",
              "      <td>0</td>\n",
              "      <td>0</td>\n",
              "      <td>0</td>\n",
              "      <td>0</td>\n",
              "      <td>0</td>\n",
              "      <td>0</td>\n",
              "      <td>0</td>\n",
              "      <td>0</td>\n",
              "    </tr>\n",
              "    <tr>\n",
              "      <th>-2</th>\n",
              "      <td>0</td>\n",
              "      <td>0</td>\n",
              "      <td>0</td>\n",
              "      <td>0</td>\n",
              "      <td>0</td>\n",
              "      <td>0</td>\n",
              "      <td>0</td>\n",
              "      <td>0</td>\n",
              "      <td>0</td>\n",
              "      <td>0</td>\n",
              "      <td>0</td>\n",
              "      <td>0</td>\n",
              "      <td>0</td>\n",
              "      <td>0</td>\n",
              "      <td>0</td>\n",
              "      <td>0</td>\n",
              "      <td>0</td>\n",
              "      <td>0</td>\n",
              "    </tr>\n",
              "  </tbody>\n",
              "</table>\n",
              "</div>"
            ],
            "text/plain": [
              "     CAP_PLAN_ENC_20  CAP_PLAN_ENC_15  ...  CAP_PLAN_ENC_9  CAP_PLAN_ENC_8\n",
              " 1                 1                0  ...               0               0\n",
              " 2                 0                1  ...               0               0\n",
              " 3                 0                0  ...               0               0\n",
              " 4                 0                0  ...               0               0\n",
              " 5                 0                0  ...               0               0\n",
              " 6                 0                0  ...               0               0\n",
              " 7                 0                0  ...               0               0\n",
              " 8                 0                0  ...               0               0\n",
              " 9                 0                0  ...               0               0\n",
              " 10                0                0  ...               0               0\n",
              " 11                0                0  ...               0               0\n",
              " 12                0                0  ...               0               0\n",
              " 13                0                0  ...               0               0\n",
              " 14                0                0  ...               0               0\n",
              " 15                0                0  ...               0               0\n",
              " 16                0                0  ...               0               0\n",
              " 17                0                0  ...               1               0\n",
              " 18                0                0  ...               0               1\n",
              "-1                 0                0  ...               0               0\n",
              "-2                 0                0  ...               0               0\n",
              "\n",
              "[20 rows x 18 columns]"
            ]
          },
          "metadata": {
            "tags": []
          },
          "execution_count": 187
        }
      ]
    },
    {
      "cell_type": "markdown",
      "metadata": {
        "id": "nOTnM774PmLu"
      },
      "source": [
        "**COMENTARIO**"
      ]
    },
    {
      "cell_type": "markdown",
      "metadata": {
        "id": "oEIYBNMxP2Um"
      },
      "source": [
        "Este feature nos indica la capacidad de navegacion incluida dentro del plan contratado.  Los valores que presenta son numericos, que nos dan una categoria y para evitar que el modelo le de peso a los valores numericos, se transformo utilizando one-hot-encoder."
      ]
    },
    {
      "cell_type": "markdown",
      "metadata": {
        "id": "-9nceNqAEymS"
      },
      "source": [
        "# MESES_CLIENTE_ANTIGUEDAD"
      ]
    },
    {
      "cell_type": "markdown",
      "metadata": {
        "id": "8YPA0j0CQs3U"
      },
      "source": [
        "**POWER TRANSFORMER, YEO-JOHNSON**"
      ]
    },
    {
      "cell_type": "markdown",
      "metadata": {
        "id": "YP6Tr2MqKX7u"
      },
      "source": [
        "Este predictor es el numero de meses que tiene de permanecer el cliente dentro de TIGO.  Utilizaremos una transformacion de PowerTransformer Yeo-Johnson.  Intenteramos que sea una distribucion normal."
      ]
    },
    {
      "cell_type": "code",
      "metadata": {
        "colab": {
          "base_uri": "https://localhost:8080/",
          "height": 297
        },
        "id": "N1RUDQCfEwfD",
        "outputId": "f62bdabd-e592-4cb0-e92f-0b9c8f4c2071"
      },
      "source": [
        "sns.histplot(data = df_train, x = \"MESES_CLIENTE_ANTIGUEDAD\")"
      ],
      "execution_count": 188,
      "outputs": [
        {
          "output_type": "execute_result",
          "data": {
            "text/plain": [
              "<matplotlib.axes._subplots.AxesSubplot at 0x7fb884bd4990>"
            ]
          },
          "metadata": {
            "tags": []
          },
          "execution_count": 188
        },
        {
          "output_type": "display_data",
          "data": {
            "image/png": "[encoded data removed]",
            "text/plain": [
              "<Figure size 432x288 with 1 Axes>"
            ]
          },
          "metadata": {
            "tags": [],
            "needs_background": "light"
          }
        }
      ]
    },
    {
      "cell_type": "code",
      "metadata": {
        "id": "29Soc-pbGiLb"
      },
      "source": [
        "from sklearn.preprocessing import PowerTransformer"
      ],
      "execution_count": 189,
      "outputs": []
    },
    {
      "cell_type": "code",
      "metadata": {
        "id": "2yskshFbHjA3"
      },
      "source": [
        "scaler = PowerTransformer()"
      ],
      "execution_count": 190,
      "outputs": []
    },
    {
      "cell_type": "code",
      "metadata": {
        "id": "ysf24jMgHB3Y"
      },
      "source": [
        "col_name ='MESES_CLIENTE_ANTIGUEDAD'\n",
        "trans_col_name='MESES_CLIENTE_ANTIGUEDAD_RB'\n",
        "df_train[trans_col_name] = scaler.fit_transform(df_train[[col_name]])"
      ],
      "execution_count": 191,
      "outputs": []
    },
    {
      "cell_type": "code",
      "metadata": {
        "colab": {
          "base_uri": "https://localhost:8080/",
          "height": 406
        },
        "id": "qQ6KO2x0HcjJ",
        "outputId": "3873f16d-e1cf-4a3c-fba0-8cf47fc17a76"
      },
      "source": [
        "fig, axes = plt.subplots(ncols=2, figsize=(16,6))\n",
        "sns.histplot(data=df_train, x=trans_col_name, ax=axes[0], kde=True)\n",
        "sns.histplot(data=df_train, x=col_name, ax=axes[1], kde=True)"
      ],
      "execution_count": 192,
      "outputs": [
        {
          "output_type": "execute_result",
          "data": {
            "text/plain": [
              "<matplotlib.axes._subplots.AxesSubplot at 0x7fb884b1cd10>"
            ]
          },
          "metadata": {
            "tags": []
          },
          "execution_count": 192
        },
        {
          "output_type": "display_data",
          "data": {
            "image/png": "[encoded data removed]",
            "text/plain": [
              "<Figure size 1152x432 with 2 Axes>"
            ]
          },
          "metadata": {
            "tags": [],
            "needs_background": "light"
          }
        }
      ]
    },
    {
      "cell_type": "code",
      "metadata": {
        "colab": {
          "base_uri": "https://localhost:8080/",
          "height": 224
        },
        "id": "oQO5fO3EEjaD",
        "outputId": "96a4ee13-67da-4534-a14a-45275c413a8f"
      },
      "source": [
        "df_train.head()"
      ],
      "execution_count": 193,
      "outputs": [
        {
          "output_type": "execute_result",
          "data": {
            "text/html": [
              "<div>\n",
              "<style scoped>\n",
              "    .dataframe tbody tr th:only-of-type {\n",
              "        vertical-align: middle;\n",
              "    }\n",
              "\n",
              "    .dataframe tbody tr th {\n",
              "        vertical-align: top;\n",
              "    }\n",
              "\n",
              "    .dataframe thead th {\n",
              "        text-align: right;\n",
              "    }\n",
              "</style>\n",
              "<table border=\"1\" class=\"dataframe\">\n",
              "  <thead>\n",
              "    <tr style=\"text-align: right;\">\n",
              "      <th></th>\n",
              "      <th>CUOTA_BASICA</th>\n",
              "      <th>CAPACIDAD_PLAN_DATOS</th>\n",
              "      <th>ANEXOS_HOME</th>\n",
              "      <th>ANEXOS_MOBILE</th>\n",
              "      <th>MESES_CLIENTE_ANTIGUEDAD</th>\n",
              "      <th>MESES_CONTRATO</th>\n",
              "      <th>SUBSIDIO</th>\n",
              "      <th>PAGO_DEVICE_CLIENTE</th>\n",
              "      <th>CONSUMO_PORCENT_CUOTA</th>\n",
              "      <th>FACTURAS_PAGADAS_EN_TIEMPO</th>\n",
              "      <th>CANTIDAD_ABONOS_PARA_PAGAR_AVG</th>\n",
              "      <th>AVG_DIAS_PAGO_A_TIEMPO</th>\n",
              "      <th>MESES_CONT_NAME</th>\n",
              "      <th>MESES_CONT_TRANS</th>\n",
              "      <th>DEPARTAMENTO_GUATEMALA</th>\n",
              "      <th>DEPARTAMENTO_TRANS</th>\n",
              "      <th>SUBSIDIO_MM</th>\n",
              "      <th>CAP_PLAN_ENC</th>\n",
              "      <th>CAP_PLAN_ENC_20</th>\n",
              "      <th>CAP_PLAN_ENC_15</th>\n",
              "      <th>CAP_PLAN_ENC_25</th>\n",
              "      <th>CAP_PLAN_ENC_10</th>\n",
              "      <th>CAP_PLAN_ENC_70</th>\n",
              "      <th>CAP_PLAN_ENC_16</th>\n",
              "      <th>CAP_PLAN_ENC_30</th>\n",
              "      <th>CAP_PLAN_ENC_60</th>\n",
              "      <th>CAP_PLAN_ENC_40</th>\n",
              "      <th>CAP_PLAN_ENC_50</th>\n",
              "      <th>CAP_PLAN_ENC_14</th>\n",
              "      <th>CAP_PLAN_ENC_6</th>\n",
              "      <th>CAP_PLAN_ENC_5</th>\n",
              "      <th>CAP_PLAN_ENC_12</th>\n",
              "      <th>CAP_PLAN_ENC_7</th>\n",
              "      <th>CAP_PLAN_ENC_1</th>\n",
              "      <th>CAP_PLAN_ENC_9</th>\n",
              "      <th>CAP_PLAN_ENC_8</th>\n",
              "      <th>MESES_CLIENTE_ANTIGUEDAD_RB</th>\n",
              "    </tr>\n",
              "  </thead>\n",
              "  <tbody>\n",
              "    <tr>\n",
              "      <th>1</th>\n",
              "      <td>499.0048</td>\n",
              "      <td>20</td>\n",
              "      <td>3.0</td>\n",
              "      <td>2.0</td>\n",
              "      <td>200.0</td>\n",
              "      <td>24.0</td>\n",
              "      <td>3042.17</td>\n",
              "      <td>1607.14</td>\n",
              "      <td>0.51</td>\n",
              "      <td>8.0</td>\n",
              "      <td>1.0</td>\n",
              "      <td>2.0</td>\n",
              "      <td>VEINTICUATRO</td>\n",
              "      <td>0.728451</td>\n",
              "      <td>ESCUINTLA</td>\n",
              "      <td>386</td>\n",
              "      <td>0.438146</td>\n",
              "      <td>20</td>\n",
              "      <td>1</td>\n",
              "      <td>0</td>\n",
              "      <td>0</td>\n",
              "      <td>0</td>\n",
              "      <td>0</td>\n",
              "      <td>0</td>\n",
              "      <td>0</td>\n",
              "      <td>0</td>\n",
              "      <td>0</td>\n",
              "      <td>0</td>\n",
              "      <td>0</td>\n",
              "      <td>0</td>\n",
              "      <td>0</td>\n",
              "      <td>0</td>\n",
              "      <td>0</td>\n",
              "      <td>0</td>\n",
              "      <td>0</td>\n",
              "      <td>0</td>\n",
              "      <td>1.046693</td>\n",
              "    </tr>\n",
              "    <tr>\n",
              "      <th>2</th>\n",
              "      <td>298.9952</td>\n",
              "      <td>15</td>\n",
              "      <td>0.0</td>\n",
              "      <td>3.0</td>\n",
              "      <td>98.0</td>\n",
              "      <td>24.0</td>\n",
              "      <td>1237.57</td>\n",
              "      <td>207.36</td>\n",
              "      <td>0.33</td>\n",
              "      <td>10.0</td>\n",
              "      <td>1.0</td>\n",
              "      <td>8.0</td>\n",
              "      <td>VEINTICUATRO</td>\n",
              "      <td>0.728451</td>\n",
              "      <td>GUATEMALA</td>\n",
              "      <td>6617</td>\n",
              "      <td>-1.016778</td>\n",
              "      <td>15</td>\n",
              "      <td>0</td>\n",
              "      <td>1</td>\n",
              "      <td>0</td>\n",
              "      <td>0</td>\n",
              "      <td>0</td>\n",
              "      <td>0</td>\n",
              "      <td>0</td>\n",
              "      <td>0</td>\n",
              "      <td>0</td>\n",
              "      <td>0</td>\n",
              "      <td>0</td>\n",
              "      <td>0</td>\n",
              "      <td>0</td>\n",
              "      <td>0</td>\n",
              "      <td>0</td>\n",
              "      <td>0</td>\n",
              "      <td>0</td>\n",
              "      <td>0</td>\n",
              "      <td>0.045520</td>\n",
              "    </tr>\n",
              "    <tr>\n",
              "      <th>4</th>\n",
              "      <td>298.9952</td>\n",
              "      <td>15</td>\n",
              "      <td>0.0</td>\n",
              "      <td>1.0</td>\n",
              "      <td>16.0</td>\n",
              "      <td>24.0</td>\n",
              "      <td>1441.82</td>\n",
              "      <td>0.90</td>\n",
              "      <td>0.50</td>\n",
              "      <td>6.0</td>\n",
              "      <td>2.0</td>\n",
              "      <td>18.0</td>\n",
              "      <td>VEINTICUATRO</td>\n",
              "      <td>0.728451</td>\n",
              "      <td>SAN MARCOS</td>\n",
              "      <td>215</td>\n",
              "      <td>-0.391717</td>\n",
              "      <td>15</td>\n",
              "      <td>0</td>\n",
              "      <td>1</td>\n",
              "      <td>0</td>\n",
              "      <td>0</td>\n",
              "      <td>0</td>\n",
              "      <td>0</td>\n",
              "      <td>0</td>\n",
              "      <td>0</td>\n",
              "      <td>0</td>\n",
              "      <td>0</td>\n",
              "      <td>0</td>\n",
              "      <td>0</td>\n",
              "      <td>0</td>\n",
              "      <td>0</td>\n",
              "      <td>0</td>\n",
              "      <td>0</td>\n",
              "      <td>0</td>\n",
              "      <td>0</td>\n",
              "      <td>-1.478549</td>\n",
              "    </tr>\n",
              "    <tr>\n",
              "      <th>5</th>\n",
              "      <td>598.9984</td>\n",
              "      <td>25</td>\n",
              "      <td>0.0</td>\n",
              "      <td>3.0</td>\n",
              "      <td>76.0</td>\n",
              "      <td>18.0</td>\n",
              "      <td>3194.77</td>\n",
              "      <td>1428.57</td>\n",
              "      <td>0.10</td>\n",
              "      <td>10.0</td>\n",
              "      <td>1.0</td>\n",
              "      <td>1.0</td>\n",
              "      <td>DIECIOCHO</td>\n",
              "      <td>0.267194</td>\n",
              "      <td>GUATEMALA</td>\n",
              "      <td>6617</td>\n",
              "      <td>0.537884</td>\n",
              "      <td>25</td>\n",
              "      <td>0</td>\n",
              "      <td>0</td>\n",
              "      <td>1</td>\n",
              "      <td>0</td>\n",
              "      <td>0</td>\n",
              "      <td>0</td>\n",
              "      <td>0</td>\n",
              "      <td>0</td>\n",
              "      <td>0</td>\n",
              "      <td>0</td>\n",
              "      <td>0</td>\n",
              "      <td>0</td>\n",
              "      <td>0</td>\n",
              "      <td>0</td>\n",
              "      <td>0</td>\n",
              "      <td>0</td>\n",
              "      <td>0</td>\n",
              "      <td>0</td>\n",
              "      <td>-0.245056</td>\n",
              "    </tr>\n",
              "    <tr>\n",
              "      <th>6</th>\n",
              "      <td>298.9952</td>\n",
              "      <td>15</td>\n",
              "      <td>1.0</td>\n",
              "      <td>1.0</td>\n",
              "      <td>68.0</td>\n",
              "      <td>18.0</td>\n",
              "      <td>-299.27</td>\n",
              "      <td>-401.79</td>\n",
              "      <td>0.73</td>\n",
              "      <td>9.0</td>\n",
              "      <td>1.0</td>\n",
              "      <td>22.0</td>\n",
              "      <td>DIECIOCHO</td>\n",
              "      <td>0.267194</td>\n",
              "      <td>GUATEMALA</td>\n",
              "      <td>6617</td>\n",
              "      <td>-2.060319</td>\n",
              "      <td>15</td>\n",
              "      <td>0</td>\n",
              "      <td>1</td>\n",
              "      <td>0</td>\n",
              "      <td>0</td>\n",
              "      <td>0</td>\n",
              "      <td>0</td>\n",
              "      <td>0</td>\n",
              "      <td>0</td>\n",
              "      <td>0</td>\n",
              "      <td>0</td>\n",
              "      <td>0</td>\n",
              "      <td>0</td>\n",
              "      <td>0</td>\n",
              "      <td>0</td>\n",
              "      <td>0</td>\n",
              "      <td>0</td>\n",
              "      <td>0</td>\n",
              "      <td>0</td>\n",
              "      <td>-0.362746</td>\n",
              "    </tr>\n",
              "  </tbody>\n",
              "</table>\n",
              "</div>"
            ],
            "text/plain": [
              "   CUOTA_BASICA  ...  MESES_CLIENTE_ANTIGUEDAD_RB\n",
              "1      499.0048  ...                     1.046693\n",
              "2      298.9952  ...                     0.045520\n",
              "4      298.9952  ...                    -1.478549\n",
              "5      598.9984  ...                    -0.245056\n",
              "6      298.9952  ...                    -0.362746\n",
              "\n",
              "[5 rows x 37 columns]"
            ]
          },
          "metadata": {
            "tags": []
          },
          "execution_count": 193
        }
      ]
    },
    {
      "cell_type": "markdown",
      "metadata": {
        "id": "GJ4StH4KQbNk"
      },
      "source": [
        "**COMENTARIO**"
      ]
    },
    {
      "cell_type": "markdown",
      "metadata": {
        "id": "0AHhpE9DK8uB"
      },
      "source": [
        "Se puede observar que existen modas, lo que nos hace pensar que se puede deber a los tres productos que tenemos en el dataset. Los cuales son 1) Credito 2) Factura Fija 3) Sin Contrato.  Se tomara su importancia a la hora de generar el modelo."
      ]
    },
    {
      "cell_type": "markdown",
      "metadata": {
        "id": "MSfLNN5GFGuV"
      },
      "source": [
        "## PAGO DEVICE CLIENTE"
      ]
    },
    {
      "cell_type": "code",
      "metadata": {
        "colab": {
          "base_uri": "https://localhost:8080/"
        },
        "id": "fYM2WHWja5UN",
        "outputId": "1d0b19b5-bfc5-4654-ba57-39d51a6f2e0b"
      },
      "source": [
        "df_train.info()"
      ],
      "execution_count": 194,
      "outputs": [
        {
          "output_type": "stream",
          "text": [
            "<class 'pandas.core.frame.DataFrame'>\n",
            "Int64Index: 10105 entries, 1 to 17466\n",
            "Data columns (total 37 columns):\n",
            " #   Column                          Non-Null Count  Dtype  \n",
            "---  ------                          --------------  -----  \n",
            " 0   CUOTA_BASICA                    10105 non-null  float64\n",
            " 1   CAPACIDAD_PLAN_DATOS            10105 non-null  int64  \n",
            " 2   ANEXOS_HOME                     10105 non-null  float64\n",
            " 3   ANEXOS_MOBILE                   10105 non-null  float64\n",
            " 4   MESES_CLIENTE_ANTIGUEDAD        10105 non-null  float64\n",
            " 5   MESES_CONTRATO                  10105 non-null  float64\n",
            " 6   SUBSIDIO                        10105 non-null  float64\n",
            " 7   PAGO_DEVICE_CLIENTE             10105 non-null  float64\n",
            " 8   CONSUMO_PORCENT_CUOTA           10105 non-null  float64\n",
            " 9   FACTURAS_PAGADAS_EN_TIEMPO      10105 non-null  float64\n",
            " 10  CANTIDAD_ABONOS_PARA_PAGAR_AVG  10105 non-null  float64\n",
            " 11  AVG_DIAS_PAGO_A_TIEMPO          10105 non-null  float64\n",
            " 12  MESES_CONT_NAME                 10105 non-null  object \n",
            " 13  MESES_CONT_TRANS                10105 non-null  float64\n",
            " 14  DEPARTAMENTO_GUATEMALA          10105 non-null  object \n",
            " 15  DEPARTAMENTO_TRANS              10105 non-null  int64  \n",
            " 16  SUBSIDIO_MM                     10105 non-null  float64\n",
            " 17  CAP_PLAN_ENC                    10105 non-null  object \n",
            " 18  CAP_PLAN_ENC_20                 10105 non-null  int64  \n",
            " 19  CAP_PLAN_ENC_15                 10105 non-null  int64  \n",
            " 20  CAP_PLAN_ENC_25                 10105 non-null  int64  \n",
            " 21  CAP_PLAN_ENC_10                 10105 non-null  int64  \n",
            " 22  CAP_PLAN_ENC_70                 10105 non-null  int64  \n",
            " 23  CAP_PLAN_ENC_16                 10105 non-null  int64  \n",
            " 24  CAP_PLAN_ENC_30                 10105 non-null  int64  \n",
            " 25  CAP_PLAN_ENC_60                 10105 non-null  int64  \n",
            " 26  CAP_PLAN_ENC_40                 10105 non-null  int64  \n",
            " 27  CAP_PLAN_ENC_50                 10105 non-null  int64  \n",
            " 28  CAP_PLAN_ENC_14                 10105 non-null  int64  \n",
            " 29  CAP_PLAN_ENC_6                  10105 non-null  int64  \n",
            " 30  CAP_PLAN_ENC_5                  10105 non-null  int64  \n",
            " 31  CAP_PLAN_ENC_12                 10105 non-null  int64  \n",
            " 32  CAP_PLAN_ENC_7                  10105 non-null  int64  \n",
            " 33  CAP_PLAN_ENC_1                  10105 non-null  int64  \n",
            " 34  CAP_PLAN_ENC_9                  10105 non-null  int64  \n",
            " 35  CAP_PLAN_ENC_8                  10105 non-null  int64  \n",
            " 36  MESES_CLIENTE_ANTIGUEDAD_RB     10105 non-null  float64\n",
            "dtypes: float64(14), int64(20), object(3)\n",
            "memory usage: 3.2+ MB\n"
          ],
          "name": "stdout"
        }
      ]
    },
    {
      "cell_type": "code",
      "metadata": {
        "id": "ZoE6HZluu0df"
      },
      "source": [
        ""
      ],
      "execution_count": null,
      "outputs": []
    },
    {
      "cell_type": "code",
      "metadata": {
        "id": "DD6KX50BGtjS"
      },
      "source": [
        "df_train['PAGO_DEVICE_CLIENTE'] = df_train['PAGO_DEVICE_CLIENTE'].abs() "
      ],
      "execution_count": 204,
      "outputs": []
    },
    {
      "cell_type": "code",
      "metadata": {
        "id": "QoV55iudFND3"
      },
      "source": [
        "##pagoCliente_scaler = QuantileTransformer( output_distribution='normal'  )\n",
        "pagoCliente_scaler = PowerTransformer()"
      ],
      "execution_count": 218,
      "outputs": []
    },
    {
      "cell_type": "code",
      "metadata": {
        "id": "dOGpqSY8Fa_Z"
      },
      "source": [
        "col_name = 'PAGO_DEVICE_CLIENTE'\n",
        "trans_col_name = 'PAGO_DEVICE_CLIENTE_TM'\n",
        "df_train[trans_col_name] = pagoCliente_scaler.fit_transform(df_train[[col_name]])"
      ],
      "execution_count": 219,
      "outputs": []
    },
    {
      "cell_type": "code",
      "metadata": {
        "colab": {
          "base_uri": "https://localhost:8080/",
          "height": 406
        },
        "id": "Aa2AGTw3Fwmd",
        "outputId": "0851b323-a583-4950-d6a1-82dede0b0c58"
      },
      "source": [
        "fig, axes = plt.subplots(ncols=2, figsize=(16,6))\n",
        "sns.histplot(data=df_train,x=trans_col_name,ax=axes[0], kde=True)\n",
        "sns.histplot(data=df_train, x=col_name, ax=axes[1], kde=True)"
      ],
      "execution_count": 220,
      "outputs": [
        {
          "output_type": "execute_result",
          "data": {
            "text/plain": [
              "<matplotlib.axes._subplots.AxesSubplot at 0x7fb883d27390>"
            ]
          },
          "metadata": {
            "tags": []
          },
          "execution_count": 220
        },
        {
          "output_type": "display_data",
          "data": {
            "image/png": "[encoded data removed]",
            "text/plain": [
              "<Figure size 1152x432 with 2 Axes>"
            ]
          },
          "metadata": {
            "tags": [],
            "needs_background": "light"
          }
        }
      ]
    },
    {
      "cell_type": "markdown",
      "metadata": {
        "id": "ICGKunFiFOyw"
      },
      "source": [
        "## Revisar Predictores contra Variable de Salida"
      ]
    },
    {
      "cell_type": "markdown",
      "metadata": {
        "id": "CAEwPZotFD3Y"
      },
      "source": [
        "**CUOTA** BASICA"
      ]
    },
    {
      "cell_type": "code",
      "metadata": {
        "id": "i1KDVjS6tkAg"
      },
      "source": [
        "from sklearn.linear_model import LogisticRegression\n",
        "from sklearn import metrics"
      ],
      "execution_count": 224,
      "outputs": []
    },
    {
      "cell_type": "code",
      "metadata": {
        "id": "ln0CAbpPsPnV"
      },
      "source": [
        "X_train = df_train[['CUOTA_BASICA']]\n",
        "y_train = df_recortado['DOWNSELL']"
      ],
      "execution_count": 225,
      "outputs": []
    },
    {
      "cell_type": "code",
      "metadata": {
        "colab": {
          "base_uri": "https://localhost:8080/"
        },
        "id": "u7FOxUD3s0e5",
        "outputId": "ec026465-b584-45ee-dcee-125c820fe702"
      },
      "source": [
        "clf = LogisticRegression()\n",
        "clf.fit(X_train, y_train)"
      ],
      "execution_count": 226,
      "outputs": [
        {
          "output_type": "execute_result",
          "data": {
            "text/plain": [
              "LogisticRegression(C=1.0, class_weight=None, dual=False, fit_intercept=True,\n",
              "                   intercept_scaling=1, l1_ratio=None, max_iter=100,\n",
              "                   multi_class='auto', n_jobs=None, penalty='l2',\n",
              "                   random_state=None, solver='lbfgs', tol=0.0001, verbose=0,\n",
              "                   warm_start=False)"
            ]
          },
          "metadata": {
            "tags": []
          },
          "execution_count": 226
        }
      ]
    },
    {
      "cell_type": "code",
      "metadata": {
        "colab": {
          "base_uri": "https://localhost:8080/",
          "height": 180
        },
        "id": "H4J4ZzbXtq4N",
        "outputId": "211d6119-1502-4b4c-8e0d-d57afebf3f88"
      },
      "source": [
        "roc_curve = metrics.plot_roc_curve(clf, X_test, y_test)\n",
        "plt.plot([0, 1], [0, 1], color='gray', lw=2, linestyle='--')"
      ],
      "execution_count": 227,
      "outputs": [
        {
          "output_type": "error",
          "ename": "NameError",
          "evalue": "ignored",
          "traceback": [
            "\u001b[0;31m---------------------------------------------------------------------------\u001b[0m",
            "\u001b[0;31mNameError\u001b[0m                                 Traceback (most recent call last)",
            "\u001b[0;32m<ipython-input-227-b65a513564a8>\u001b[0m in \u001b[0;36m<module>\u001b[0;34m()\u001b[0m\n\u001b[0;32m----> 1\u001b[0;31m \u001b[0mroc_curve\u001b[0m \u001b[0;34m=\u001b[0m \u001b[0mmetrics\u001b[0m\u001b[0;34m.\u001b[0m\u001b[0mplot_roc_curve\u001b[0m\u001b[0;34m(\u001b[0m\u001b[0mclf\u001b[0m\u001b[0;34m,\u001b[0m \u001b[0mX_test\u001b[0m\u001b[0;34m,\u001b[0m \u001b[0my_test\u001b[0m\u001b[0;34m)\u001b[0m\u001b[0;34m\u001b[0m\u001b[0;34m\u001b[0m\u001b[0m\n\u001b[0m\u001b[1;32m      2\u001b[0m \u001b[0mplt\u001b[0m\u001b[0;34m.\u001b[0m\u001b[0mplot\u001b[0m\u001b[0;34m(\u001b[0m\u001b[0;34m[\u001b[0m\u001b[0;36m0\u001b[0m\u001b[0;34m,\u001b[0m \u001b[0;36m1\u001b[0m\u001b[0;34m]\u001b[0m\u001b[0;34m,\u001b[0m \u001b[0;34m[\u001b[0m\u001b[0;36m0\u001b[0m\u001b[0;34m,\u001b[0m \u001b[0;36m1\u001b[0m\u001b[0;34m]\u001b[0m\u001b[0;34m,\u001b[0m \u001b[0mcolor\u001b[0m\u001b[0;34m=\u001b[0m\u001b[0;34m'gray'\u001b[0m\u001b[0;34m,\u001b[0m \u001b[0mlw\u001b[0m\u001b[0;34m=\u001b[0m\u001b[0;36m2\u001b[0m\u001b[0;34m,\u001b[0m \u001b[0mlinestyle\u001b[0m\u001b[0;34m=\u001b[0m\u001b[0;34m'--'\u001b[0m\u001b[0;34m)\u001b[0m\u001b[0;34m\u001b[0m\u001b[0;34m\u001b[0m\u001b[0m\n",
            "\u001b[0;31mNameError\u001b[0m: name 'X_test' is not defined"
          ]
        }
      ]
    }
  ]
}